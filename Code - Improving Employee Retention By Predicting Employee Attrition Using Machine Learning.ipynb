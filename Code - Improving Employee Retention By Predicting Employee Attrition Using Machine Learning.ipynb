{
 "cells": [
  {
   "cell_type": "markdown",
   "metadata": {},
   "source": [
    "# **Improving Employee Retention By Predicting Employee Attrition Using Machine Learning**"
   ]
  },
  {
   "cell_type": "markdown",
   "metadata": {},
   "source": [
    "---\n",
    "# Business Understanding\n",
    "---"
   ]
  },
  {
   "cell_type": "markdown",
   "metadata": {},
   "source": [
    "Human resources (HR) represent the fundamental assets that require effective management for the company to achieve its business goals efficiently. In this context, we are addressing a challenge related to human resources within the company. Our primary objective is to understand how to retain employees within the current organization, recognizing that turnover incurs increased costs for employee recruitment and training, especially for those who have recently joined. Identifying the key factors contributing to employee dissatisfaction allows the company to proactively address these issues by implementing targeted programs that directly tackle employee concerns."
   ]
  },
  {
   "cell_type": "markdown",
   "metadata": {},
   "source": [
    "---\n",
    "# Import Library\n",
    "---"
   ]
  },
  {
   "cell_type": "code",
   "execution_count": 34,
   "metadata": {},
   "outputs": [],
   "source": [
    "import pandas as pd\n",
    "import matplotlib.pyplot as plt\n",
    "import seaborn as sns\n",
    "import numpy as np\n",
    "import datetime\n",
    "import plotly.graph_objects as go\n",
    "import plotly.express as px"
   ]
  },
  {
   "cell_type": "code",
   "execution_count": 2,
   "metadata": {},
   "outputs": [
    {
     "name": "stdout",
     "output_type": "stream",
     "text": [
      "20\n",
      "100\n"
     ]
    }
   ],
   "source": [
    "print (pd.options.display.max_columns)\n",
    "pd.options.display.max_columns = 100\n",
    "print (pd.options.display.max_columns)"
   ]
  },
  {
   "cell_type": "markdown",
   "metadata": {},
   "source": [
    "---\n",
    "# Load Data\n",
    "---"
   ]
  },
  {
   "cell_type": "code",
   "execution_count": 3,
   "metadata": {},
   "outputs": [
    {
     "data": {
      "text/html": [
       "<div>\n",
       "<style scoped>\n",
       "    .dataframe tbody tr th:only-of-type {\n",
       "        vertical-align: middle;\n",
       "    }\n",
       "\n",
       "    .dataframe tbody tr th {\n",
       "        vertical-align: top;\n",
       "    }\n",
       "\n",
       "    .dataframe thead th {\n",
       "        text-align: right;\n",
       "    }\n",
       "</style>\n",
       "<table border=\"1\" class=\"dataframe\">\n",
       "  <thead>\n",
       "    <tr style=\"text-align: right;\">\n",
       "      <th></th>\n",
       "      <th>Username</th>\n",
       "      <th>EnterpriseID</th>\n",
       "      <th>StatusPernikahan</th>\n",
       "      <th>JenisKelamin</th>\n",
       "      <th>StatusKepegawaian</th>\n",
       "      <th>Pekerjaan</th>\n",
       "      <th>JenjangKarir</th>\n",
       "      <th>PerformancePegawai</th>\n",
       "      <th>AsalDaerah</th>\n",
       "      <th>HiringPlatform</th>\n",
       "      <th>SkorSurveyEngagement</th>\n",
       "      <th>SkorKepuasanPegawai</th>\n",
       "      <th>JumlahKeikutsertaanProjek</th>\n",
       "      <th>JumlahKeterlambatanSebulanTerakhir</th>\n",
       "      <th>JumlahKetidakhadiran</th>\n",
       "      <th>NomorHP</th>\n",
       "      <th>Email</th>\n",
       "      <th>TingkatPendidikan</th>\n",
       "      <th>PernahBekerja</th>\n",
       "      <th>IkutProgramLOP</th>\n",
       "      <th>AlasanResign</th>\n",
       "      <th>TanggalLahir</th>\n",
       "      <th>TanggalHiring</th>\n",
       "      <th>TanggalPenilaianKaryawan</th>\n",
       "      <th>TanggalResign</th>\n",
       "    </tr>\n",
       "  </thead>\n",
       "  <tbody>\n",
       "    <tr>\n",
       "      <th>0</th>\n",
       "      <td>spiritedPorpoise3</td>\n",
       "      <td>111065</td>\n",
       "      <td>Belum_menikah</td>\n",
       "      <td>Pria</td>\n",
       "      <td>Outsource</td>\n",
       "      <td>Software Engineer (Back End)</td>\n",
       "      <td>Freshgraduate_program</td>\n",
       "      <td>Sangat_bagus</td>\n",
       "      <td>Jakarta Timur</td>\n",
       "      <td>Employee_Referral</td>\n",
       "      <td>4</td>\n",
       "      <td>4.0</td>\n",
       "      <td>0.0</td>\n",
       "      <td>0.0</td>\n",
       "      <td>9.0</td>\n",
       "      <td>+6282232522xxx</td>\n",
       "      <td>spiritedPorpoise3135@yahoo.com</td>\n",
       "      <td>Magister</td>\n",
       "      <td>1</td>\n",
       "      <td>1.0</td>\n",
       "      <td>masih_bekerja</td>\n",
       "      <td>1972-07-01</td>\n",
       "      <td>2011-01-10</td>\n",
       "      <td>2016-2-15</td>\n",
       "      <td>-</td>\n",
       "    </tr>\n",
       "    <tr>\n",
       "      <th>1</th>\n",
       "      <td>jealousGelding2</td>\n",
       "      <td>106080</td>\n",
       "      <td>Belum_menikah</td>\n",
       "      <td>Pria</td>\n",
       "      <td>FullTime</td>\n",
       "      <td>Data Analyst</td>\n",
       "      <td>Freshgraduate_program</td>\n",
       "      <td>Sangat_kurang</td>\n",
       "      <td>Jakarta Utara</td>\n",
       "      <td>Website</td>\n",
       "      <td>4</td>\n",
       "      <td>4.0</td>\n",
       "      <td>4.0</td>\n",
       "      <td>0.0</td>\n",
       "      <td>3.0</td>\n",
       "      <td>+6281270745xxx</td>\n",
       "      <td>jealousGelding2239@yahoo.com</td>\n",
       "      <td>Sarjana</td>\n",
       "      <td>1</td>\n",
       "      <td>1.0</td>\n",
       "      <td>toxic_culture</td>\n",
       "      <td>1984-04-26</td>\n",
       "      <td>2014-01-06</td>\n",
       "      <td>2020-1-17</td>\n",
       "      <td>2018-6-16</td>\n",
       "    </tr>\n",
       "    <tr>\n",
       "      <th>2</th>\n",
       "      <td>pluckyMuesli3</td>\n",
       "      <td>106452</td>\n",
       "      <td>Menikah</td>\n",
       "      <td>Pria</td>\n",
       "      <td>FullTime</td>\n",
       "      <td>Software Engineer (Front End)</td>\n",
       "      <td>Freshgraduate_program</td>\n",
       "      <td>Bagus</td>\n",
       "      <td>Jakarta Timur</td>\n",
       "      <td>Indeed</td>\n",
       "      <td>4</td>\n",
       "      <td>3.0</td>\n",
       "      <td>0.0</td>\n",
       "      <td>0.0</td>\n",
       "      <td>11.0</td>\n",
       "      <td>+6281346215xxx</td>\n",
       "      <td>pluckyMuesli3961@icloud.com</td>\n",
       "      <td>Magister</td>\n",
       "      <td>1</td>\n",
       "      <td>1.0</td>\n",
       "      <td>jam_kerja</td>\n",
       "      <td>1974-01-07</td>\n",
       "      <td>2011-01-10</td>\n",
       "      <td>2016-01-10</td>\n",
       "      <td>2014-9-24</td>\n",
       "    </tr>\n",
       "    <tr>\n",
       "      <th>3</th>\n",
       "      <td>stressedTruffle1</td>\n",
       "      <td>106325</td>\n",
       "      <td>Belum_menikah</td>\n",
       "      <td>Pria</td>\n",
       "      <td>Outsource</td>\n",
       "      <td>Software Engineer (Front End)</td>\n",
       "      <td>Freshgraduate_program</td>\n",
       "      <td>Bagus</td>\n",
       "      <td>Jakarta Pusat</td>\n",
       "      <td>LinkedIn</td>\n",
       "      <td>3</td>\n",
       "      <td>3.0</td>\n",
       "      <td>0.0</td>\n",
       "      <td>4.0</td>\n",
       "      <td>6.0</td>\n",
       "      <td>+6283233846xxx</td>\n",
       "      <td>stressedTruffle1406@hotmail.com</td>\n",
       "      <td>Sarjana</td>\n",
       "      <td>1</td>\n",
       "      <td>0.0</td>\n",
       "      <td>masih_bekerja</td>\n",
       "      <td>1979-11-24</td>\n",
       "      <td>2014-2-17</td>\n",
       "      <td>2020-02-04</td>\n",
       "      <td>-</td>\n",
       "    </tr>\n",
       "    <tr>\n",
       "      <th>4</th>\n",
       "      <td>shyTermite7</td>\n",
       "      <td>111171</td>\n",
       "      <td>Belum_menikah</td>\n",
       "      <td>Wanita</td>\n",
       "      <td>FullTime</td>\n",
       "      <td>Product Manager</td>\n",
       "      <td>Freshgraduate_program</td>\n",
       "      <td>Bagus</td>\n",
       "      <td>Jakarta Timur</td>\n",
       "      <td>LinkedIn</td>\n",
       "      <td>3</td>\n",
       "      <td>3.0</td>\n",
       "      <td>0.0</td>\n",
       "      <td>0.0</td>\n",
       "      <td>11.0</td>\n",
       "      <td>+6287883263xxx</td>\n",
       "      <td>shyTermite7149@gmail.com</td>\n",
       "      <td>Sarjana</td>\n",
       "      <td>1</td>\n",
       "      <td>0.0</td>\n",
       "      <td>ganti_karir</td>\n",
       "      <td>1974-11-07</td>\n",
       "      <td>2013-11-11</td>\n",
       "      <td>2020-1-22</td>\n",
       "      <td>2018-09-06</td>\n",
       "    </tr>\n",
       "    <tr>\n",
       "      <th>...</th>\n",
       "      <td>...</td>\n",
       "      <td>...</td>\n",
       "      <td>...</td>\n",
       "      <td>...</td>\n",
       "      <td>...</td>\n",
       "      <td>...</td>\n",
       "      <td>...</td>\n",
       "      <td>...</td>\n",
       "      <td>...</td>\n",
       "      <td>...</td>\n",
       "      <td>...</td>\n",
       "      <td>...</td>\n",
       "      <td>...</td>\n",
       "      <td>...</td>\n",
       "      <td>...</td>\n",
       "      <td>...</td>\n",
       "      <td>...</td>\n",
       "      <td>...</td>\n",
       "      <td>...</td>\n",
       "      <td>...</td>\n",
       "      <td>...</td>\n",
       "      <td>...</td>\n",
       "      <td>...</td>\n",
       "      <td>...</td>\n",
       "      <td>...</td>\n",
       "    </tr>\n",
       "    <tr>\n",
       "      <th>282</th>\n",
       "      <td>dopeySheep0</td>\n",
       "      <td>106034</td>\n",
       "      <td>Belum_menikah</td>\n",
       "      <td>Wanita</td>\n",
       "      <td>FullTime</td>\n",
       "      <td>Data Engineer</td>\n",
       "      <td>Mid_level</td>\n",
       "      <td>Bagus</td>\n",
       "      <td>Jakarta Pusat</td>\n",
       "      <td>Google_Search</td>\n",
       "      <td>2</td>\n",
       "      <td>5.0</td>\n",
       "      <td>0.0</td>\n",
       "      <td>0.0</td>\n",
       "      <td>16.0</td>\n",
       "      <td>+6283343465xxx</td>\n",
       "      <td>dopeySheep0297@icloud.com</td>\n",
       "      <td>Sarjana</td>\n",
       "      <td>1</td>\n",
       "      <td>NaN</td>\n",
       "      <td>NaN</td>\n",
       "      <td>1973-12-08</td>\n",
       "      <td>2011-9-26</td>\n",
       "      <td>2016-03-01</td>\n",
       "      <td>-</td>\n",
       "    </tr>\n",
       "    <tr>\n",
       "      <th>283</th>\n",
       "      <td>yearningPorpoise4</td>\n",
       "      <td>106254</td>\n",
       "      <td>-</td>\n",
       "      <td>Wanita</td>\n",
       "      <td>FullTime</td>\n",
       "      <td>Product Design (UI &amp; UX)</td>\n",
       "      <td>Freshgraduate_program</td>\n",
       "      <td>Biasa</td>\n",
       "      <td>Jakarta Timur</td>\n",
       "      <td>LinkedIn</td>\n",
       "      <td>4</td>\n",
       "      <td>5.0</td>\n",
       "      <td>0.0</td>\n",
       "      <td>0.0</td>\n",
       "      <td>11.0</td>\n",
       "      <td>+6281222782xxx</td>\n",
       "      <td>yearningPorpoise4421@yahoo.com</td>\n",
       "      <td>Sarjana</td>\n",
       "      <td>1</td>\n",
       "      <td>NaN</td>\n",
       "      <td>jam_kerja</td>\n",
       "      <td>1974-12-01</td>\n",
       "      <td>2013-5-13</td>\n",
       "      <td>2020-1-28</td>\n",
       "      <td>2017-11-15</td>\n",
       "    </tr>\n",
       "    <tr>\n",
       "      <th>284</th>\n",
       "      <td>murkySausage9</td>\n",
       "      <td>110433</td>\n",
       "      <td>Menikah</td>\n",
       "      <td>Wanita</td>\n",
       "      <td>FullTime</td>\n",
       "      <td>Software Engineer (Front End)</td>\n",
       "      <td>Senior_level</td>\n",
       "      <td>Biasa</td>\n",
       "      <td>Jakarta Pusat</td>\n",
       "      <td>Diversity_Job_Fair</td>\n",
       "      <td>2</td>\n",
       "      <td>5.0</td>\n",
       "      <td>0.0</td>\n",
       "      <td>0.0</td>\n",
       "      <td>17.0</td>\n",
       "      <td>+6285821950xxx</td>\n",
       "      <td>murkySausage9688@yahoo.com</td>\n",
       "      <td>Sarjana</td>\n",
       "      <td>1</td>\n",
       "      <td>1.0</td>\n",
       "      <td>ganti_karir</td>\n",
       "      <td>1969-10-30</td>\n",
       "      <td>2013-11-11</td>\n",
       "      <td>2020-1-21</td>\n",
       "      <td>2018-06-08</td>\n",
       "    </tr>\n",
       "    <tr>\n",
       "      <th>285</th>\n",
       "      <td>truthfulMoth4</td>\n",
       "      <td>110744</td>\n",
       "      <td>Belum_menikah</td>\n",
       "      <td>Pria</td>\n",
       "      <td>FullTime</td>\n",
       "      <td>Software Engineer (Android)</td>\n",
       "      <td>Mid_level</td>\n",
       "      <td>Bagus</td>\n",
       "      <td>Jakarta Utara</td>\n",
       "      <td>Google_Search</td>\n",
       "      <td>4</td>\n",
       "      <td>5.0</td>\n",
       "      <td>0.0</td>\n",
       "      <td>0.0</td>\n",
       "      <td>20.0</td>\n",
       "      <td>+6287787391xxx</td>\n",
       "      <td>truthfulMoth4663@yahoo.com</td>\n",
       "      <td>Sarjana</td>\n",
       "      <td>1</td>\n",
       "      <td>0.0</td>\n",
       "      <td>kejelasan_karir</td>\n",
       "      <td>1981-10-01</td>\n",
       "      <td>2011-5-16</td>\n",
       "      <td>2014-04-05</td>\n",
       "      <td>2018-04-01</td>\n",
       "    </tr>\n",
       "    <tr>\n",
       "      <th>286</th>\n",
       "      <td>puzzledFish5</td>\n",
       "      <td>106214</td>\n",
       "      <td>Menikah</td>\n",
       "      <td>Pria</td>\n",
       "      <td>Internship</td>\n",
       "      <td>Data Analyst</td>\n",
       "      <td>Mid_level</td>\n",
       "      <td>Bagus</td>\n",
       "      <td>Jakarta Barat</td>\n",
       "      <td>Indeed</td>\n",
       "      <td>4</td>\n",
       "      <td>3.0</td>\n",
       "      <td>0.0</td>\n",
       "      <td>0.0</td>\n",
       "      <td>2.0</td>\n",
       "      <td>+6287722818xxx</td>\n",
       "      <td>puzzledFish5776@hotmail.com</td>\n",
       "      <td>Sarjana</td>\n",
       "      <td>1</td>\n",
       "      <td>NaN</td>\n",
       "      <td>NaN</td>\n",
       "      <td>1981-08-10</td>\n",
       "      <td>2012-8-16</td>\n",
       "      <td>2020-1-14</td>\n",
       "      <td>-</td>\n",
       "    </tr>\n",
       "  </tbody>\n",
       "</table>\n",
       "<p>287 rows × 25 columns</p>\n",
       "</div>"
      ],
      "text/plain": [
       "              Username  EnterpriseID StatusPernikahan JenisKelamin   \n",
       "0    spiritedPorpoise3        111065    Belum_menikah         Pria  \\\n",
       "1      jealousGelding2        106080    Belum_menikah         Pria   \n",
       "2        pluckyMuesli3        106452          Menikah         Pria   \n",
       "3     stressedTruffle1        106325    Belum_menikah         Pria   \n",
       "4          shyTermite7        111171    Belum_menikah       Wanita   \n",
       "..                 ...           ...              ...          ...   \n",
       "282        dopeySheep0        106034    Belum_menikah       Wanita   \n",
       "283  yearningPorpoise4        106254                -       Wanita   \n",
       "284      murkySausage9        110433          Menikah       Wanita   \n",
       "285      truthfulMoth4        110744    Belum_menikah         Pria   \n",
       "286       puzzledFish5        106214          Menikah         Pria   \n",
       "\n",
       "    StatusKepegawaian                      Pekerjaan           JenjangKarir   \n",
       "0           Outsource   Software Engineer (Back End)  Freshgraduate_program  \\\n",
       "1            FullTime                   Data Analyst  Freshgraduate_program   \n",
       "2            FullTime  Software Engineer (Front End)  Freshgraduate_program   \n",
       "3           Outsource  Software Engineer (Front End)  Freshgraduate_program   \n",
       "4            FullTime                Product Manager  Freshgraduate_program   \n",
       "..                ...                            ...                    ...   \n",
       "282          FullTime                  Data Engineer              Mid_level   \n",
       "283          FullTime       Product Design (UI & UX)  Freshgraduate_program   \n",
       "284          FullTime  Software Engineer (Front End)           Senior_level   \n",
       "285          FullTime    Software Engineer (Android)              Mid_level   \n",
       "286        Internship                   Data Analyst              Mid_level   \n",
       "\n",
       "    PerformancePegawai     AsalDaerah      HiringPlatform   \n",
       "0         Sangat_bagus  Jakarta Timur   Employee_Referral  \\\n",
       "1        Sangat_kurang  Jakarta Utara             Website   \n",
       "2                Bagus  Jakarta Timur              Indeed   \n",
       "3                Bagus  Jakarta Pusat            LinkedIn   \n",
       "4                Bagus  Jakarta Timur            LinkedIn   \n",
       "..                 ...            ...                 ...   \n",
       "282              Bagus  Jakarta Pusat       Google_Search   \n",
       "283              Biasa  Jakarta Timur            LinkedIn   \n",
       "284              Biasa  Jakarta Pusat  Diversity_Job_Fair   \n",
       "285              Bagus  Jakarta Utara       Google_Search   \n",
       "286              Bagus  Jakarta Barat              Indeed   \n",
       "\n",
       "     SkorSurveyEngagement  SkorKepuasanPegawai  JumlahKeikutsertaanProjek   \n",
       "0                       4                  4.0                        0.0  \\\n",
       "1                       4                  4.0                        4.0   \n",
       "2                       4                  3.0                        0.0   \n",
       "3                       3                  3.0                        0.0   \n",
       "4                       3                  3.0                        0.0   \n",
       "..                    ...                  ...                        ...   \n",
       "282                     2                  5.0                        0.0   \n",
       "283                     4                  5.0                        0.0   \n",
       "284                     2                  5.0                        0.0   \n",
       "285                     4                  5.0                        0.0   \n",
       "286                     4                  3.0                        0.0   \n",
       "\n",
       "     JumlahKeterlambatanSebulanTerakhir  JumlahKetidakhadiran         NomorHP   \n",
       "0                                   0.0                   9.0  +6282232522xxx  \\\n",
       "1                                   0.0                   3.0  +6281270745xxx   \n",
       "2                                   0.0                  11.0  +6281346215xxx   \n",
       "3                                   4.0                   6.0  +6283233846xxx   \n",
       "4                                   0.0                  11.0  +6287883263xxx   \n",
       "..                                  ...                   ...             ...   \n",
       "282                                 0.0                  16.0  +6283343465xxx   \n",
       "283                                 0.0                  11.0  +6281222782xxx   \n",
       "284                                 0.0                  17.0  +6285821950xxx   \n",
       "285                                 0.0                  20.0  +6287787391xxx   \n",
       "286                                 0.0                   2.0  +6287722818xxx   \n",
       "\n",
       "                               Email TingkatPendidikan PernahBekerja   \n",
       "0     spiritedPorpoise3135@yahoo.com          Magister             1  \\\n",
       "1       jealousGelding2239@yahoo.com           Sarjana             1   \n",
       "2        pluckyMuesli3961@icloud.com          Magister             1   \n",
       "3    stressedTruffle1406@hotmail.com           Sarjana             1   \n",
       "4           shyTermite7149@gmail.com           Sarjana             1   \n",
       "..                               ...               ...           ...   \n",
       "282        dopeySheep0297@icloud.com           Sarjana             1   \n",
       "283   yearningPorpoise4421@yahoo.com           Sarjana             1   \n",
       "284       murkySausage9688@yahoo.com           Sarjana             1   \n",
       "285       truthfulMoth4663@yahoo.com           Sarjana             1   \n",
       "286      puzzledFish5776@hotmail.com           Sarjana             1   \n",
       "\n",
       "     IkutProgramLOP     AlasanResign TanggalLahir TanggalHiring   \n",
       "0               1.0    masih_bekerja   1972-07-01    2011-01-10  \\\n",
       "1               1.0    toxic_culture   1984-04-26    2014-01-06   \n",
       "2               1.0        jam_kerja   1974-01-07    2011-01-10   \n",
       "3               0.0    masih_bekerja   1979-11-24     2014-2-17   \n",
       "4               0.0      ganti_karir   1974-11-07    2013-11-11   \n",
       "..              ...              ...          ...           ...   \n",
       "282             NaN              NaN   1973-12-08     2011-9-26   \n",
       "283             NaN        jam_kerja   1974-12-01     2013-5-13   \n",
       "284             1.0      ganti_karir   1969-10-30    2013-11-11   \n",
       "285             0.0  kejelasan_karir   1981-10-01     2011-5-16   \n",
       "286             NaN              NaN   1981-08-10     2012-8-16   \n",
       "\n",
       "    TanggalPenilaianKaryawan TanggalResign  \n",
       "0                  2016-2-15             -  \n",
       "1                  2020-1-17     2018-6-16  \n",
       "2                 2016-01-10     2014-9-24  \n",
       "3                 2020-02-04             -  \n",
       "4                  2020-1-22    2018-09-06  \n",
       "..                       ...           ...  \n",
       "282               2016-03-01             -  \n",
       "283                2020-1-28    2017-11-15  \n",
       "284                2020-1-21    2018-06-08  \n",
       "285               2014-04-05    2018-04-01  \n",
       "286                2020-1-14             -  \n",
       "\n",
       "[287 rows x 25 columns]"
      ]
     },
     "execution_count": 3,
     "metadata": {},
     "output_type": "execute_result"
    }
   ],
   "source": [
    "df = pd.read_excel('dataset/Improving Employee Retention by Predicting Employee Attrition Using Machine Learning.xlsx')\n",
    "df"
   ]
  },
  {
   "cell_type": "markdown",
   "metadata": {},
   "source": [
    "---\n",
    "# Stage 1: Data Preprocessing\n",
    "---"
   ]
  },
  {
   "cell_type": "markdown",
   "metadata": {},
   "source": [
    "## Univariate Analysis"
   ]
  },
  {
   "cell_type": "code",
   "execution_count": 4,
   "metadata": {},
   "outputs": [
    {
     "name": "stdout",
     "output_type": "stream",
     "text": [
      "<class 'pandas.core.frame.DataFrame'>\n",
      "RangeIndex: 287 entries, 0 to 286\n",
      "Data columns (total 25 columns):\n",
      " #   Column                              Non-Null Count  Dtype  \n",
      "---  ------                              --------------  -----  \n",
      " 0   Username                            287 non-null    object \n",
      " 1   EnterpriseID                        287 non-null    int64  \n",
      " 2   StatusPernikahan                    287 non-null    object \n",
      " 3   JenisKelamin                        287 non-null    object \n",
      " 4   StatusKepegawaian                   287 non-null    object \n",
      " 5   Pekerjaan                           287 non-null    object \n",
      " 6   JenjangKarir                        287 non-null    object \n",
      " 7   PerformancePegawai                  287 non-null    object \n",
      " 8   AsalDaerah                          287 non-null    object \n",
      " 9   HiringPlatform                      287 non-null    object \n",
      " 10  SkorSurveyEngagement                287 non-null    int64  \n",
      " 11  SkorKepuasanPegawai                 282 non-null    float64\n",
      " 12  JumlahKeikutsertaanProjek           284 non-null    float64\n",
      " 13  JumlahKeterlambatanSebulanTerakhir  286 non-null    float64\n",
      " 14  JumlahKetidakhadiran                281 non-null    float64\n",
      " 15  NomorHP                             287 non-null    object \n",
      " 16  Email                               287 non-null    object \n",
      " 17  TingkatPendidikan                   287 non-null    object \n",
      " 18  PernahBekerja                       287 non-null    object \n",
      " 19  IkutProgramLOP                      29 non-null     float64\n",
      " 20  AlasanResign                        221 non-null    object \n",
      " 21  TanggalLahir                        287 non-null    object \n",
      " 22  TanggalHiring                       287 non-null    object \n",
      " 23  TanggalPenilaianKaryawan            287 non-null    object \n",
      " 24  TanggalResign                       287 non-null    object \n",
      "dtypes: float64(5), int64(2), object(18)\n",
      "memory usage: 56.2+ KB\n"
     ]
    }
   ],
   "source": [
    "df.info()"
   ]
  },
  {
   "cell_type": "markdown",
   "metadata": {},
   "source": [
    "According to the data frame information, several features exhibit missing values, and there is a need to adjust the data types for ease of processing. Here are the details:\n",
    "\n",
    "**Features with Missing Values:**\n",
    "- SkorKepuasanPegawai, JumlahKeikutsertaanProjek, JumlahKetidakhadiran, IkutProgramLOP, AlasanResign contain missing values.\n",
    "\n",
    "**Features Requiring Datatype Change:**\n",
    "- TanggalLahir, TanggalHiring, TanggalPenilaianKaryawan, TanggalResign will be converted to datetime datatype for better processing."
   ]
  },
  {
   "cell_type": "code",
   "execution_count": 5,
   "metadata": {},
   "outputs": [],
   "source": [
    "categorical = ['StatusPernikahan', 'JenisKelamin', 'StatusKepegawaian', 'Pekerjaan', 'JenjangKarir', 'PerformancePegawai', 'AsalDaerah', 'HiringPlatform', 'TingkatPendidikan', 'PernahBekerja', 'AlasanResign']\n",
    "numerical = ['SkorSurveyEngagement', 'SkorKepuasanPegawai', 'JumlahKeikutsertaanProjek', 'JumlahKeterlambatanSebulanTerakhir', 'JumlahKetidakhadiran', 'IkutProgramLOP']"
   ]
  },
  {
   "cell_type": "code",
   "execution_count": 6,
   "metadata": {},
   "outputs": [
    {
     "data": {
      "text/html": [
       "<div>\n",
       "<style scoped>\n",
       "    .dataframe tbody tr th:only-of-type {\n",
       "        vertical-align: middle;\n",
       "    }\n",
       "\n",
       "    .dataframe tbody tr th {\n",
       "        vertical-align: top;\n",
       "    }\n",
       "\n",
       "    .dataframe thead th {\n",
       "        text-align: right;\n",
       "    }\n",
       "</style>\n",
       "<table border=\"1\" class=\"dataframe\">\n",
       "  <thead>\n",
       "    <tr style=\"text-align: right;\">\n",
       "      <th></th>\n",
       "      <th>StatusPernikahan</th>\n",
       "      <th>JenisKelamin</th>\n",
       "      <th>StatusKepegawaian</th>\n",
       "      <th>Pekerjaan</th>\n",
       "      <th>JenjangKarir</th>\n",
       "      <th>PerformancePegawai</th>\n",
       "      <th>AsalDaerah</th>\n",
       "      <th>HiringPlatform</th>\n",
       "      <th>TingkatPendidikan</th>\n",
       "      <th>PernahBekerja</th>\n",
       "      <th>AlasanResign</th>\n",
       "    </tr>\n",
       "  </thead>\n",
       "  <tbody>\n",
       "    <tr>\n",
       "      <th>count</th>\n",
       "      <td>287</td>\n",
       "      <td>287</td>\n",
       "      <td>287</td>\n",
       "      <td>287</td>\n",
       "      <td>287</td>\n",
       "      <td>287</td>\n",
       "      <td>287</td>\n",
       "      <td>287</td>\n",
       "      <td>287</td>\n",
       "      <td>287</td>\n",
       "      <td>221</td>\n",
       "    </tr>\n",
       "    <tr>\n",
       "      <th>unique</th>\n",
       "      <td>5</td>\n",
       "      <td>2</td>\n",
       "      <td>3</td>\n",
       "      <td>14</td>\n",
       "      <td>3</td>\n",
       "      <td>5</td>\n",
       "      <td>5</td>\n",
       "      <td>9</td>\n",
       "      <td>3</td>\n",
       "      <td>2</td>\n",
       "      <td>11</td>\n",
       "    </tr>\n",
       "    <tr>\n",
       "      <th>top</th>\n",
       "      <td>Belum_menikah</td>\n",
       "      <td>Wanita</td>\n",
       "      <td>FullTime</td>\n",
       "      <td>Software Engineer (Back End)</td>\n",
       "      <td>Freshgraduate_program</td>\n",
       "      <td>Biasa</td>\n",
       "      <td>Jakarta Pusat</td>\n",
       "      <td>Indeed</td>\n",
       "      <td>Sarjana</td>\n",
       "      <td>1</td>\n",
       "      <td>masih_bekerja</td>\n",
       "    </tr>\n",
       "    <tr>\n",
       "      <th>freq</th>\n",
       "      <td>132</td>\n",
       "      <td>167</td>\n",
       "      <td>217</td>\n",
       "      <td>109</td>\n",
       "      <td>169</td>\n",
       "      <td>85</td>\n",
       "      <td>72</td>\n",
       "      <td>85</td>\n",
       "      <td>176</td>\n",
       "      <td>286</td>\n",
       "      <td>132</td>\n",
       "    </tr>\n",
       "  </tbody>\n",
       "</table>\n",
       "</div>"
      ],
      "text/plain": [
       "       StatusPernikahan JenisKelamin StatusKepegawaian   \n",
       "count               287          287               287  \\\n",
       "unique                5            2                 3   \n",
       "top       Belum_menikah       Wanita          FullTime   \n",
       "freq                132          167               217   \n",
       "\n",
       "                           Pekerjaan           JenjangKarir   \n",
       "count                            287                    287  \\\n",
       "unique                            14                      3   \n",
       "top     Software Engineer (Back End)  Freshgraduate_program   \n",
       "freq                             109                    169   \n",
       "\n",
       "       PerformancePegawai     AsalDaerah HiringPlatform TingkatPendidikan   \n",
       "count                 287            287            287               287  \\\n",
       "unique                  5              5              9                 3   \n",
       "top                 Biasa  Jakarta Pusat         Indeed           Sarjana   \n",
       "freq                   85             72             85               176   \n",
       "\n",
       "        PernahBekerja   AlasanResign  \n",
       "count             287            221  \n",
       "unique              2             11  \n",
       "top                 1  masih_bekerja  \n",
       "freq              286            132  "
      ]
     },
     "execution_count": 6,
     "metadata": {},
     "output_type": "execute_result"
    }
   ],
   "source": [
    "df[categorical].describe()"
   ]
  },
  {
   "cell_type": "markdown",
   "metadata": {},
   "source": [
    "There are several categorical features, namely StatusKepegawaian, JenjangKarir, and PernahBekerja, that exhibit a significant number of top-category differences compared to others. These features warrant further analysis to determine whether this feature is good or not."
   ]
  },
  {
   "cell_type": "code",
   "execution_count": 7,
   "metadata": {},
   "outputs": [
    {
     "name": "stdout",
     "output_type": "stream",
     "text": [
      "=======================================================================================================\n",
      "StatusPernikahan : 5\n",
      "StatusPernikahan : ['Belum_menikah' 'Menikah' 'Bercerai' 'Lainnya' '-']\n",
      "=======================================================================================================\n",
      "JenisKelamin : 2\n",
      "JenisKelamin : ['Pria' 'Wanita']\n",
      "=======================================================================================================\n",
      "StatusKepegawaian : 3\n",
      "StatusKepegawaian : ['Outsource' 'FullTime' 'Internship']\n",
      "=======================================================================================================\n",
      "Pekerjaan : 14\n",
      "Pekerjaan : ['Software Engineer (Back End)' 'Data Analyst'\n",
      " 'Software Engineer (Front End)' 'Product Manager'\n",
      " 'Software Engineer (Android)' 'Scrum Master'\n",
      " 'Product Design (UX Researcher)' 'Product Design (UI & UX)'\n",
      " 'Digital Product Manager' 'Data Engineer' 'Software Engineer (iOS)'\n",
      " 'DevOps Engineer' 'Software Architect' 'Machine Learning Engineer']\n",
      "=======================================================================================================\n",
      "JenjangKarir : 3\n",
      "JenjangKarir : ['Freshgraduate_program' 'Senior_level' 'Mid_level']\n",
      "=======================================================================================================\n",
      "PerformancePegawai : 5\n",
      "PerformancePegawai : ['Sangat_bagus' 'Sangat_kurang' 'Bagus' 'Biasa' 'Kurang']\n",
      "=======================================================================================================\n",
      "AsalDaerah : 5\n",
      "AsalDaerah : ['Jakarta Timur' 'Jakarta Utara' 'Jakarta Pusat' 'Jakarta Selatan'\n",
      " 'Jakarta Barat']\n",
      "=======================================================================================================\n",
      "HiringPlatform : 9\n",
      "HiringPlatform : ['Employee_Referral' 'Website' 'Indeed' 'LinkedIn' 'CareerBuilder'\n",
      " 'Diversity_Job_Fair' 'Google_Search' 'On-line_Web_application' 'Other']\n",
      "=======================================================================================================\n",
      "TingkatPendidikan : 3\n",
      "TingkatPendidikan : ['Magister' 'Sarjana' 'Doktor']\n",
      "=======================================================================================================\n",
      "PernahBekerja : 2\n",
      "PernahBekerja : [1 'yes']\n",
      "=======================================================================================================\n",
      "AlasanResign : 12\n",
      "AlasanResign : ['masih_bekerja' 'toxic_culture' 'jam_kerja' 'ganti_karir' 'tidak_bahagia'\n",
      " 'internal_conflict' 'Product Design (UI & UX)' 'kejelasan_karir'\n",
      " 'tidak_bisa_remote' 'apresiasi' nan 'leadership']\n"
     ]
    }
   ],
   "source": [
    "for i in categorical:\n",
    "    print('=======================================================================================================')\n",
    "    print(i, ':', len(df[i].unique()))\n",
    "    print(i, ':', df[i].unique())"
   ]
  },
  {
   "cell_type": "markdown",
   "metadata": {},
   "source": [
    "Based on the unique values in categorical features, the following improvements will be made to the data:\n",
    "\n",
    "- **StatusPernikahan:**\n",
    "  - Unique values '-' and 'lainnya' will be changed to 'unknown' for standardization.\n",
    "\n",
    "- **PernahBekerja:**\n",
    "  - The feature will be dropped as the unique values do not provide meaningful information.\n"
   ]
  },
  {
   "cell_type": "code",
   "execution_count": 8,
   "metadata": {},
   "outputs": [
    {
     "data": {
      "text/html": [
       "<div>\n",
       "<style scoped>\n",
       "    .dataframe tbody tr th:only-of-type {\n",
       "        vertical-align: middle;\n",
       "    }\n",
       "\n",
       "    .dataframe tbody tr th {\n",
       "        vertical-align: top;\n",
       "    }\n",
       "\n",
       "    .dataframe thead th {\n",
       "        text-align: right;\n",
       "    }\n",
       "</style>\n",
       "<table border=\"1\" class=\"dataframe\">\n",
       "  <thead>\n",
       "    <tr style=\"text-align: right;\">\n",
       "      <th></th>\n",
       "      <th>SkorSurveyEngagement</th>\n",
       "      <th>SkorKepuasanPegawai</th>\n",
       "      <th>JumlahKeikutsertaanProjek</th>\n",
       "      <th>JumlahKeterlambatanSebulanTerakhir</th>\n",
       "      <th>JumlahKetidakhadiran</th>\n",
       "      <th>IkutProgramLOP</th>\n",
       "    </tr>\n",
       "  </thead>\n",
       "  <tbody>\n",
       "    <tr>\n",
       "      <th>count</th>\n",
       "      <td>287.000000</td>\n",
       "      <td>282.000000</td>\n",
       "      <td>284.000000</td>\n",
       "      <td>286.000000</td>\n",
       "      <td>281.000000</td>\n",
       "      <td>29.000000</td>\n",
       "    </tr>\n",
       "    <tr>\n",
       "      <th>mean</th>\n",
       "      <td>3.101045</td>\n",
       "      <td>3.904255</td>\n",
       "      <td>1.179577</td>\n",
       "      <td>0.412587</td>\n",
       "      <td>10.448399</td>\n",
       "      <td>0.517241</td>\n",
       "    </tr>\n",
       "    <tr>\n",
       "      <th>std</th>\n",
       "      <td>0.836388</td>\n",
       "      <td>0.913355</td>\n",
       "      <td>2.294441</td>\n",
       "      <td>1.275016</td>\n",
       "      <td>6.902252</td>\n",
       "      <td>0.508548</td>\n",
       "    </tr>\n",
       "    <tr>\n",
       "      <th>min</th>\n",
       "      <td>1.000000</td>\n",
       "      <td>1.000000</td>\n",
       "      <td>0.000000</td>\n",
       "      <td>0.000000</td>\n",
       "      <td>1.000000</td>\n",
       "      <td>0.000000</td>\n",
       "    </tr>\n",
       "    <tr>\n",
       "      <th>25%</th>\n",
       "      <td>3.000000</td>\n",
       "      <td>3.000000</td>\n",
       "      <td>0.000000</td>\n",
       "      <td>0.000000</td>\n",
       "      <td>5.000000</td>\n",
       "      <td>0.000000</td>\n",
       "    </tr>\n",
       "    <tr>\n",
       "      <th>50%</th>\n",
       "      <td>3.000000</td>\n",
       "      <td>4.000000</td>\n",
       "      <td>0.000000</td>\n",
       "      <td>0.000000</td>\n",
       "      <td>10.000000</td>\n",
       "      <td>1.000000</td>\n",
       "    </tr>\n",
       "    <tr>\n",
       "      <th>75%</th>\n",
       "      <td>4.000000</td>\n",
       "      <td>5.000000</td>\n",
       "      <td>0.000000</td>\n",
       "      <td>0.000000</td>\n",
       "      <td>15.000000</td>\n",
       "      <td>1.000000</td>\n",
       "    </tr>\n",
       "    <tr>\n",
       "      <th>max</th>\n",
       "      <td>5.000000</td>\n",
       "      <td>5.000000</td>\n",
       "      <td>8.000000</td>\n",
       "      <td>6.000000</td>\n",
       "      <td>55.000000</td>\n",
       "      <td>1.000000</td>\n",
       "    </tr>\n",
       "  </tbody>\n",
       "</table>\n",
       "</div>"
      ],
      "text/plain": [
       "       SkorSurveyEngagement  SkorKepuasanPegawai  JumlahKeikutsertaanProjek   \n",
       "count            287.000000           282.000000                 284.000000  \\\n",
       "mean               3.101045             3.904255                   1.179577   \n",
       "std                0.836388             0.913355                   2.294441   \n",
       "min                1.000000             1.000000                   0.000000   \n",
       "25%                3.000000             3.000000                   0.000000   \n",
       "50%                3.000000             4.000000                   0.000000   \n",
       "75%                4.000000             5.000000                   0.000000   \n",
       "max                5.000000             5.000000                   8.000000   \n",
       "\n",
       "       JumlahKeterlambatanSebulanTerakhir  JumlahKetidakhadiran   \n",
       "count                          286.000000            281.000000  \\\n",
       "mean                             0.412587             10.448399   \n",
       "std                              1.275016              6.902252   \n",
       "min                              0.000000              1.000000   \n",
       "25%                              0.000000              5.000000   \n",
       "50%                              0.000000             10.000000   \n",
       "75%                              0.000000             15.000000   \n",
       "max                              6.000000             55.000000   \n",
       "\n",
       "       IkutProgramLOP  \n",
       "count       29.000000  \n",
       "mean         0.517241  \n",
       "std          0.508548  \n",
       "min          0.000000  \n",
       "25%          0.000000  \n",
       "50%          1.000000  \n",
       "75%          1.000000  \n",
       "max          1.000000  "
      ]
     },
     "execution_count": 8,
     "metadata": {},
     "output_type": "execute_result"
    }
   ],
   "source": [
    "df[numerical].describe()"
   ]
  },
  {
   "cell_type": "markdown",
   "metadata": {},
   "source": [
    "Based on the analysis of numerical features, all features exhibit normal values, and although some features display skewness, no corrective actions will be taken. This decision suggests that the overall distribution and characteristics of the numerical features are considered acceptable, and no adjustments are deemed necessary at this point."
   ]
  },
  {
   "cell_type": "code",
   "execution_count": 9,
   "metadata": {},
   "outputs": [],
   "source": [
    "# Changing datatype into datetime\n",
    "df['TanggalLahir'] = pd.to_datetime(df['TanggalLahir'], format='%Y-%m-%d')\n",
    "df['TanggalHiring'] = pd.to_datetime(df['TanggalHiring'], format='%Y-%m-%d')\n",
    "df['TanggalPenilaianKaryawan'] = pd.to_datetime(df['TanggalPenilaianKaryawan'], format='%Y-%m-%d')\n",
    "df['TanggalResign'].replace('-', np.nan, inplace=True)\n",
    "df['TanggalResign'] = pd.to_datetime(df['TanggalResign'], format='%Y-%m-%d')\n",
    "\n",
    "# Change value in StatusPernikahan\n",
    "df['StatusPernikahan'].replace(['-', 'Lainnya'], 'unknown', inplace=True)\n",
    "\n",
    "# Drop not meaningful columns\n",
    "df.drop(['PernahBekerja'], axis = 1, inplace = True)"
   ]
  },
  {
   "cell_type": "markdown",
   "metadata": {},
   "source": [
    "## Handling Missing Value"
   ]
  },
  {
   "cell_type": "code",
   "execution_count": 10,
   "metadata": {},
   "outputs": [
    {
     "data": {
      "text/plain": [
       "Username                                0\n",
       "EnterpriseID                            0\n",
       "StatusPernikahan                        0\n",
       "JenisKelamin                            0\n",
       "StatusKepegawaian                       0\n",
       "Pekerjaan                               0\n",
       "JenjangKarir                            0\n",
       "PerformancePegawai                      0\n",
       "AsalDaerah                              0\n",
       "HiringPlatform                          0\n",
       "SkorSurveyEngagement                    0\n",
       "SkorKepuasanPegawai                     5\n",
       "JumlahKeikutsertaanProjek               3\n",
       "JumlahKeterlambatanSebulanTerakhir      1\n",
       "JumlahKetidakhadiran                    6\n",
       "NomorHP                                 0\n",
       "Email                                   0\n",
       "TingkatPendidikan                       0\n",
       "IkutProgramLOP                        258\n",
       "AlasanResign                           66\n",
       "TanggalLahir                            0\n",
       "TanggalHiring                           0\n",
       "TanggalPenilaianKaryawan                0\n",
       "TanggalResign                         198\n",
       "dtype: int64"
      ]
     },
     "execution_count": 10,
     "metadata": {},
     "output_type": "execute_result"
    }
   ],
   "source": [
    "df.isnull().sum()"
   ]
  },
  {
   "cell_type": "markdown",
   "metadata": {},
   "source": [
    "Based on the quantity of missing values in each column, the following actions will be taken:\n",
    "- 'IkutProgramLOP' will be dropped due to the substantial number of missing values.\n",
    "- 'TanggalResign' is set to be replaced with 'Masih Bekerja'.\n",
    "- 'AlasanResign' is set to be replaced with 'unknown'.\n",
    "- 'SkorKepuasanPegawai', 'JumlahKeikutsertaanProjek', 'JumlahKeterlambatanSebulanTerakhir', and 'JumlahKetidakhadiran' will be replaced with the median. Given the limited data, this approach is suggested to minimize data loss."
   ]
  },
  {
   "cell_type": "code",
   "execution_count": 11,
   "metadata": {},
   "outputs": [],
   "source": [
    "df.drop(['IkutProgramLOP'], axis = 1, inplace = True)\n",
    "df[\"AlasanResign\"].fillna(\"unknown\", inplace = True)\n",
    "df['SkorKepuasanPegawai'].fillna(df['SkorKepuasanPegawai'].median(), inplace = True)\n",
    "df['JumlahKeikutsertaanProjek'].fillna(df['JumlahKeikutsertaanProjek'].median(), inplace = True)\n",
    "df['JumlahKeterlambatanSebulanTerakhir'].fillna(df['JumlahKeterlambatanSebulanTerakhir'].median(), inplace = True)\n",
    "df['JumlahKetidakhadiran'].fillna(df['JumlahKetidakhadiran'].median(), inplace = True)"
   ]
  },
  {
   "cell_type": "markdown",
   "metadata": {},
   "source": [
    "## Handling Duplicated Data"
   ]
  },
  {
   "cell_type": "code",
   "execution_count": 12,
   "metadata": {},
   "outputs": [
    {
     "data": {
      "text/plain": [
       "0"
      ]
     },
     "execution_count": 12,
     "metadata": {},
     "output_type": "execute_result"
    }
   ],
   "source": [
    "df.duplicated().sum()"
   ]
  },
  {
   "cell_type": "markdown",
   "metadata": {},
   "source": [
    "There is no duplicate value."
   ]
  },
  {
   "cell_type": "markdown",
   "metadata": {},
   "source": [
    "## Feature Engineering"
   ]
  },
  {
   "cell_type": "markdown",
   "metadata": {},
   "source": [
    "Date data can be challenging to use directly in machine learning models, so a transformation will be applied to make it more useful. Specifically, the date data will be extracted to create two new features:\n",
    "\n",
    "1. **Umur_pd_Penilaian:**\n",
    "   - This feature will represent the age of the employee at the time of the 'penilaian karyawan'.\n",
    "\n",
    "2. **Months_Hiring_Penilaian (Months_between_Hiring_and_Assessment):**\n",
    "   - This feature will represent the number of Months between the hiring date and the 'penilaian karyawan' date.\n",
    "\n",
    "3. **Tahun_Hiring**\n",
    "   - This feature is obtained from TanggalHiring\n",
    "\n",
    "4. **Tahun_Resign**\n",
    "   - This feature is obtained from TanggalResign\n",
    "   \n",
    "These new features aim to provide more meaningful and model-friendly representations of the time-related information in the dataset."
   ]
  },
  {
   "cell_type": "code",
   "execution_count": 13,
   "metadata": {},
   "outputs": [],
   "source": [
    "df['Umur_pd_Penilaian'] = df['TanggalPenilaianKaryawan'].dt.year - df['TanggalLahir'].dt.year\n",
    "df['Months_Hiring_Penilaian'] = ((df['TanggalPenilaianKaryawan']-df['TanggalHiring'])/np.timedelta64(1, 'M'))\n",
    "df['Tahun_Hiring'] = df['TanggalHiring'].dt.year\n",
    "df['Tahun_Resign'] = df['TanggalResign'].dt.year\n",
    "df['Umur_pd_Penilaian'] = df['Umur_pd_Penilaian'].astype(int)\n",
    "df['Months_Hiring_Penilaian'] = df['Months_Hiring_Penilaian'].astype(int)"
   ]
  },
  {
   "cell_type": "markdown",
   "metadata": {},
   "source": [
    "The dataset will be done for deeper analysis, steps like feature encoding, scaling, splitting, and similar processes will be deferred to a later stage."
   ]
  },
  {
   "cell_type": "markdown",
   "metadata": {},
   "source": [
    "---\n",
    "# Stage 2: Annual Report On Employee Number Changes\n",
    "---"
   ]
  },
  {
   "cell_type": "markdown",
   "metadata": {},
   "source": [
    "- Number of Hiring and Resign employee based on year"
   ]
  },
  {
   "cell_type": "code",
   "execution_count": 14,
   "metadata": {},
   "outputs": [
    {
     "data": {
      "text/html": [
       "<div>\n",
       "<style scoped>\n",
       "    .dataframe tbody tr th:only-of-type {\n",
       "        vertical-align: middle;\n",
       "    }\n",
       "\n",
       "    .dataframe tbody tr th {\n",
       "        vertical-align: top;\n",
       "    }\n",
       "\n",
       "    .dataframe thead th {\n",
       "        text-align: right;\n",
       "    }\n",
       "</style>\n",
       "<table border=\"1\" class=\"dataframe\">\n",
       "  <thead>\n",
       "    <tr style=\"text-align: right;\">\n",
       "      <th></th>\n",
       "      <th>Tahun</th>\n",
       "      <th>Jumlah Hiring</th>\n",
       "    </tr>\n",
       "  </thead>\n",
       "  <tbody>\n",
       "    <tr>\n",
       "      <th>0</th>\n",
       "      <td>2006</td>\n",
       "      <td>1</td>\n",
       "    </tr>\n",
       "    <tr>\n",
       "      <th>1</th>\n",
       "      <td>2007</td>\n",
       "      <td>2</td>\n",
       "    </tr>\n",
       "    <tr>\n",
       "      <th>2</th>\n",
       "      <td>2008</td>\n",
       "      <td>2</td>\n",
       "    </tr>\n",
       "    <tr>\n",
       "      <th>3</th>\n",
       "      <td>2009</td>\n",
       "      <td>7</td>\n",
       "    </tr>\n",
       "    <tr>\n",
       "      <th>4</th>\n",
       "      <td>2010</td>\n",
       "      <td>8</td>\n",
       "    </tr>\n",
       "    <tr>\n",
       "      <th>5</th>\n",
       "      <td>2011</td>\n",
       "      <td>76</td>\n",
       "    </tr>\n",
       "    <tr>\n",
       "      <th>6</th>\n",
       "      <td>2012</td>\n",
       "      <td>41</td>\n",
       "    </tr>\n",
       "    <tr>\n",
       "      <th>7</th>\n",
       "      <td>2013</td>\n",
       "      <td>43</td>\n",
       "    </tr>\n",
       "    <tr>\n",
       "      <th>8</th>\n",
       "      <td>2014</td>\n",
       "      <td>56</td>\n",
       "    </tr>\n",
       "    <tr>\n",
       "      <th>9</th>\n",
       "      <td>2015</td>\n",
       "      <td>31</td>\n",
       "    </tr>\n",
       "    <tr>\n",
       "      <th>10</th>\n",
       "      <td>2016</td>\n",
       "      <td>14</td>\n",
       "    </tr>\n",
       "    <tr>\n",
       "      <th>11</th>\n",
       "      <td>2017</td>\n",
       "      <td>5</td>\n",
       "    </tr>\n",
       "    <tr>\n",
       "      <th>12</th>\n",
       "      <td>2018</td>\n",
       "      <td>1</td>\n",
       "    </tr>\n",
       "  </tbody>\n",
       "</table>\n",
       "</div>"
      ],
      "text/plain": [
       "    Tahun  Jumlah Hiring\n",
       "0    2006              1\n",
       "1    2007              2\n",
       "2    2008              2\n",
       "3    2009              7\n",
       "4    2010              8\n",
       "5    2011             76\n",
       "6    2012             41\n",
       "7    2013             43\n",
       "8    2014             56\n",
       "9    2015             31\n",
       "10   2016             14\n",
       "11   2017              5\n",
       "12   2018              1"
      ]
     },
     "execution_count": 14,
     "metadata": {},
     "output_type": "execute_result"
    }
   ],
   "source": [
    "df_hiring = df.groupby(['Tahun_Hiring']).agg({\n",
    "    'Tahun_Hiring' : ['count']\n",
    "}).reset_index()\n",
    "df_hiring.columns = ['Tahun', 'Jumlah Hiring']\n",
    "df_hiring"
   ]
  },
  {
   "cell_type": "code",
   "execution_count": 15,
   "metadata": {},
   "outputs": [
    {
     "data": {
      "text/html": [
       "<div>\n",
       "<style scoped>\n",
       "    .dataframe tbody tr th:only-of-type {\n",
       "        vertical-align: middle;\n",
       "    }\n",
       "\n",
       "    .dataframe tbody tr th {\n",
       "        vertical-align: top;\n",
       "    }\n",
       "\n",
       "    .dataframe thead th {\n",
       "        text-align: right;\n",
       "    }\n",
       "</style>\n",
       "<table border=\"1\" class=\"dataframe\">\n",
       "  <thead>\n",
       "    <tr style=\"text-align: right;\">\n",
       "      <th></th>\n",
       "      <th>Tahun</th>\n",
       "      <th>Jumlah Resign</th>\n",
       "    </tr>\n",
       "  </thead>\n",
       "  <tbody>\n",
       "    <tr>\n",
       "      <th>0</th>\n",
       "      <td>2013</td>\n",
       "      <td>5</td>\n",
       "    </tr>\n",
       "    <tr>\n",
       "      <th>1</th>\n",
       "      <td>2014</td>\n",
       "      <td>12</td>\n",
       "    </tr>\n",
       "    <tr>\n",
       "      <th>2</th>\n",
       "      <td>2015</td>\n",
       "      <td>8</td>\n",
       "    </tr>\n",
       "    <tr>\n",
       "      <th>3</th>\n",
       "      <td>2016</td>\n",
       "      <td>8</td>\n",
       "    </tr>\n",
       "    <tr>\n",
       "      <th>4</th>\n",
       "      <td>2017</td>\n",
       "      <td>19</td>\n",
       "    </tr>\n",
       "    <tr>\n",
       "      <th>5</th>\n",
       "      <td>2018</td>\n",
       "      <td>26</td>\n",
       "    </tr>\n",
       "    <tr>\n",
       "      <th>6</th>\n",
       "      <td>2019</td>\n",
       "      <td>5</td>\n",
       "    </tr>\n",
       "    <tr>\n",
       "      <th>7</th>\n",
       "      <td>2020</td>\n",
       "      <td>6</td>\n",
       "    </tr>\n",
       "  </tbody>\n",
       "</table>\n",
       "</div>"
      ],
      "text/plain": [
       "   Tahun  Jumlah Resign\n",
       "0   2013              5\n",
       "1   2014             12\n",
       "2   2015              8\n",
       "3   2016              8\n",
       "4   2017             19\n",
       "5   2018             26\n",
       "6   2019              5\n",
       "7   2020              6"
      ]
     },
     "execution_count": 15,
     "metadata": {},
     "output_type": "execute_result"
    }
   ],
   "source": [
    "df_resign = df.groupby(['Tahun_Resign']).agg({\n",
    "    'Tahun_Resign' : ['count']\n",
    "}).reset_index()\n",
    "df_resign.columns = ['Tahun', 'Jumlah Resign']\n",
    "df_resign['Tahun'] = df_resign['Tahun'].astype(int)\n",
    "df_resign"
   ]
  },
  {
   "cell_type": "markdown",
   "metadata": {},
   "source": [
    "- Join Table Hiring and Resign"
   ]
  },
  {
   "cell_type": "code",
   "execution_count": 16,
   "metadata": {},
   "outputs": [
    {
     "data": {
      "text/html": [
       "<div>\n",
       "<style scoped>\n",
       "    .dataframe tbody tr th:only-of-type {\n",
       "        vertical-align: middle;\n",
       "    }\n",
       "\n",
       "    .dataframe tbody tr th {\n",
       "        vertical-align: top;\n",
       "    }\n",
       "\n",
       "    .dataframe thead th {\n",
       "        text-align: right;\n",
       "    }\n",
       "</style>\n",
       "<table border=\"1\" class=\"dataframe\">\n",
       "  <thead>\n",
       "    <tr style=\"text-align: right;\">\n",
       "      <th></th>\n",
       "      <th>Tahun</th>\n",
       "      <th>Jumlah Hiring</th>\n",
       "      <th>Jumlah Resign</th>\n",
       "    </tr>\n",
       "  </thead>\n",
       "  <tbody>\n",
       "    <tr>\n",
       "      <th>0</th>\n",
       "      <td>2006</td>\n",
       "      <td>1.0</td>\n",
       "      <td>0.0</td>\n",
       "    </tr>\n",
       "    <tr>\n",
       "      <th>1</th>\n",
       "      <td>2007</td>\n",
       "      <td>2.0</td>\n",
       "      <td>0.0</td>\n",
       "    </tr>\n",
       "    <tr>\n",
       "      <th>2</th>\n",
       "      <td>2008</td>\n",
       "      <td>2.0</td>\n",
       "      <td>0.0</td>\n",
       "    </tr>\n",
       "    <tr>\n",
       "      <th>3</th>\n",
       "      <td>2009</td>\n",
       "      <td>7.0</td>\n",
       "      <td>0.0</td>\n",
       "    </tr>\n",
       "    <tr>\n",
       "      <th>4</th>\n",
       "      <td>2010</td>\n",
       "      <td>8.0</td>\n",
       "      <td>0.0</td>\n",
       "    </tr>\n",
       "    <tr>\n",
       "      <th>5</th>\n",
       "      <td>2011</td>\n",
       "      <td>76.0</td>\n",
       "      <td>0.0</td>\n",
       "    </tr>\n",
       "    <tr>\n",
       "      <th>6</th>\n",
       "      <td>2012</td>\n",
       "      <td>41.0</td>\n",
       "      <td>0.0</td>\n",
       "    </tr>\n",
       "    <tr>\n",
       "      <th>7</th>\n",
       "      <td>2013</td>\n",
       "      <td>43.0</td>\n",
       "      <td>5.0</td>\n",
       "    </tr>\n",
       "    <tr>\n",
       "      <th>8</th>\n",
       "      <td>2014</td>\n",
       "      <td>56.0</td>\n",
       "      <td>12.0</td>\n",
       "    </tr>\n",
       "    <tr>\n",
       "      <th>9</th>\n",
       "      <td>2015</td>\n",
       "      <td>31.0</td>\n",
       "      <td>8.0</td>\n",
       "    </tr>\n",
       "    <tr>\n",
       "      <th>10</th>\n",
       "      <td>2016</td>\n",
       "      <td>14.0</td>\n",
       "      <td>8.0</td>\n",
       "    </tr>\n",
       "    <tr>\n",
       "      <th>11</th>\n",
       "      <td>2017</td>\n",
       "      <td>5.0</td>\n",
       "      <td>19.0</td>\n",
       "    </tr>\n",
       "    <tr>\n",
       "      <th>12</th>\n",
       "      <td>2018</td>\n",
       "      <td>1.0</td>\n",
       "      <td>26.0</td>\n",
       "    </tr>\n",
       "    <tr>\n",
       "      <th>13</th>\n",
       "      <td>2019</td>\n",
       "      <td>0.0</td>\n",
       "      <td>5.0</td>\n",
       "    </tr>\n",
       "    <tr>\n",
       "      <th>14</th>\n",
       "      <td>2020</td>\n",
       "      <td>0.0</td>\n",
       "      <td>6.0</td>\n",
       "    </tr>\n",
       "  </tbody>\n",
       "</table>\n",
       "</div>"
      ],
      "text/plain": [
       "    Tahun  Jumlah Hiring  Jumlah Resign\n",
       "0    2006            1.0            0.0\n",
       "1    2007            2.0            0.0\n",
       "2    2008            2.0            0.0\n",
       "3    2009            7.0            0.0\n",
       "4    2010            8.0            0.0\n",
       "5    2011           76.0            0.0\n",
       "6    2012           41.0            0.0\n",
       "7    2013           43.0            5.0\n",
       "8    2014           56.0           12.0\n",
       "9    2015           31.0            8.0\n",
       "10   2016           14.0            8.0\n",
       "11   2017            5.0           19.0\n",
       "12   2018            1.0           26.0\n",
       "13   2019            0.0            5.0\n",
       "14   2020            0.0            6.0"
      ]
     },
     "execution_count": 16,
     "metadata": {},
     "output_type": "execute_result"
    }
   ],
   "source": [
    "df_Number_Changes = pd.merge(df_hiring, df_resign, on='Tahun', how='outer')\n",
    "df_Number_Changes.fillna(0, inplace=True)\n",
    "df_Number_Changes"
   ]
  },
  {
   "cell_type": "markdown",
   "metadata": {},
   "source": [
    "- The total number of employees who resigned, those who still remain, and the changes each year."
   ]
  },
  {
   "cell_type": "code",
   "execution_count": 17,
   "metadata": {},
   "outputs": [
    {
     "data": {
      "text/html": [
       "<div>\n",
       "<style scoped>\n",
       "    .dataframe tbody tr th:only-of-type {\n",
       "        vertical-align: middle;\n",
       "    }\n",
       "\n",
       "    .dataframe tbody tr th {\n",
       "        vertical-align: top;\n",
       "    }\n",
       "\n",
       "    .dataframe thead th {\n",
       "        text-align: right;\n",
       "    }\n",
       "</style>\n",
       "<table border=\"1\" class=\"dataframe\">\n",
       "  <thead>\n",
       "    <tr style=\"text-align: right;\">\n",
       "      <th></th>\n",
       "      <th>Tahun</th>\n",
       "      <th>Jumlah Hiring</th>\n",
       "      <th>Jumlah Resign</th>\n",
       "      <th>Pertumbuhan Karyawan</th>\n",
       "      <th>Total Karyawan</th>\n",
       "    </tr>\n",
       "  </thead>\n",
       "  <tbody>\n",
       "    <tr>\n",
       "      <th>0</th>\n",
       "      <td>2006</td>\n",
       "      <td>1.0</td>\n",
       "      <td>0.0</td>\n",
       "      <td>1.0</td>\n",
       "      <td>1.0</td>\n",
       "    </tr>\n",
       "    <tr>\n",
       "      <th>1</th>\n",
       "      <td>2007</td>\n",
       "      <td>2.0</td>\n",
       "      <td>0.0</td>\n",
       "      <td>2.0</td>\n",
       "      <td>3.0</td>\n",
       "    </tr>\n",
       "    <tr>\n",
       "      <th>2</th>\n",
       "      <td>2008</td>\n",
       "      <td>2.0</td>\n",
       "      <td>0.0</td>\n",
       "      <td>2.0</td>\n",
       "      <td>5.0</td>\n",
       "    </tr>\n",
       "    <tr>\n",
       "      <th>3</th>\n",
       "      <td>2009</td>\n",
       "      <td>7.0</td>\n",
       "      <td>0.0</td>\n",
       "      <td>7.0</td>\n",
       "      <td>12.0</td>\n",
       "    </tr>\n",
       "    <tr>\n",
       "      <th>4</th>\n",
       "      <td>2010</td>\n",
       "      <td>8.0</td>\n",
       "      <td>0.0</td>\n",
       "      <td>8.0</td>\n",
       "      <td>20.0</td>\n",
       "    </tr>\n",
       "    <tr>\n",
       "      <th>5</th>\n",
       "      <td>2011</td>\n",
       "      <td>76.0</td>\n",
       "      <td>0.0</td>\n",
       "      <td>76.0</td>\n",
       "      <td>96.0</td>\n",
       "    </tr>\n",
       "    <tr>\n",
       "      <th>6</th>\n",
       "      <td>2012</td>\n",
       "      <td>41.0</td>\n",
       "      <td>0.0</td>\n",
       "      <td>41.0</td>\n",
       "      <td>137.0</td>\n",
       "    </tr>\n",
       "    <tr>\n",
       "      <th>7</th>\n",
       "      <td>2013</td>\n",
       "      <td>43.0</td>\n",
       "      <td>5.0</td>\n",
       "      <td>38.0</td>\n",
       "      <td>175.0</td>\n",
       "    </tr>\n",
       "    <tr>\n",
       "      <th>8</th>\n",
       "      <td>2014</td>\n",
       "      <td>56.0</td>\n",
       "      <td>12.0</td>\n",
       "      <td>44.0</td>\n",
       "      <td>219.0</td>\n",
       "    </tr>\n",
       "    <tr>\n",
       "      <th>9</th>\n",
       "      <td>2015</td>\n",
       "      <td>31.0</td>\n",
       "      <td>8.0</td>\n",
       "      <td>23.0</td>\n",
       "      <td>242.0</td>\n",
       "    </tr>\n",
       "    <tr>\n",
       "      <th>10</th>\n",
       "      <td>2016</td>\n",
       "      <td>14.0</td>\n",
       "      <td>8.0</td>\n",
       "      <td>6.0</td>\n",
       "      <td>248.0</td>\n",
       "    </tr>\n",
       "    <tr>\n",
       "      <th>11</th>\n",
       "      <td>2017</td>\n",
       "      <td>5.0</td>\n",
       "      <td>19.0</td>\n",
       "      <td>-14.0</td>\n",
       "      <td>234.0</td>\n",
       "    </tr>\n",
       "    <tr>\n",
       "      <th>12</th>\n",
       "      <td>2018</td>\n",
       "      <td>1.0</td>\n",
       "      <td>26.0</td>\n",
       "      <td>-25.0</td>\n",
       "      <td>209.0</td>\n",
       "    </tr>\n",
       "    <tr>\n",
       "      <th>13</th>\n",
       "      <td>2019</td>\n",
       "      <td>0.0</td>\n",
       "      <td>5.0</td>\n",
       "      <td>-5.0</td>\n",
       "      <td>204.0</td>\n",
       "    </tr>\n",
       "    <tr>\n",
       "      <th>14</th>\n",
       "      <td>2020</td>\n",
       "      <td>0.0</td>\n",
       "      <td>6.0</td>\n",
       "      <td>-6.0</td>\n",
       "      <td>198.0</td>\n",
       "    </tr>\n",
       "  </tbody>\n",
       "</table>\n",
       "</div>"
      ],
      "text/plain": [
       "    Tahun  Jumlah Hiring  Jumlah Resign  Pertumbuhan Karyawan  Total Karyawan\n",
       "0    2006            1.0            0.0                   1.0             1.0\n",
       "1    2007            2.0            0.0                   2.0             3.0\n",
       "2    2008            2.0            0.0                   2.0             5.0\n",
       "3    2009            7.0            0.0                   7.0            12.0\n",
       "4    2010            8.0            0.0                   8.0            20.0\n",
       "5    2011           76.0            0.0                  76.0            96.0\n",
       "6    2012           41.0            0.0                  41.0           137.0\n",
       "7    2013           43.0            5.0                  38.0           175.0\n",
       "8    2014           56.0           12.0                  44.0           219.0\n",
       "9    2015           31.0            8.0                  23.0           242.0\n",
       "10   2016           14.0            8.0                   6.0           248.0\n",
       "11   2017            5.0           19.0                 -14.0           234.0\n",
       "12   2018            1.0           26.0                 -25.0           209.0\n",
       "13   2019            0.0            5.0                  -5.0           204.0\n",
       "14   2020            0.0            6.0                  -6.0           198.0"
      ]
     },
     "execution_count": 17,
     "metadata": {},
     "output_type": "execute_result"
    }
   ],
   "source": [
    "df_Number_Changes['Pertumbuhan Karyawan'] = df_Number_Changes.apply(lambda x: x['Jumlah Hiring'] - x['Jumlah Resign'], axis=1)\n",
    "listPertumbuhan = list(df_Number_Changes['Pertumbuhan Karyawan'])\n",
    "total = [listPertumbuhan[0]]\n",
    "for i in range(1, len(listPertumbuhan)):\n",
    "    total.append(total[i-1]+listPertumbuhan[i])\n",
    "df_Number_Changes['Total Karyawan'] = total\n",
    "df_Number_Changes"
   ]
  },
  {
   "cell_type": "markdown",
   "metadata": {},
   "source": [
    "- Plot"
   ]
  },
  {
   "cell_type": "code",
   "execution_count": 18,
   "metadata": {},
   "outputs": [
    {
     "data": {
      "application/vnd.plotly.v1+json": {
       "config": {
        "plotlyServerURL": "https://plot.ly"
       },
       "data": [
        {
         "base": 0,
         "connector": {
          "line": {
           "dash": "dot"
          }
         },
         "orientation": "v",
         "text": [
          "1.0",
          "2.0",
          "2.0",
          "7.0",
          "8.0",
          "76.0",
          "41.0",
          "38.0",
          "44.0",
          "23.0",
          "6.0",
          "-14.0",
          "-25.0",
          "-5.0",
          "-6.0"
         ],
         "textposition": "outside",
         "type": "waterfall",
         "x": [
          2006,
          2007,
          2008,
          2009,
          2010,
          2011,
          2012,
          2013,
          2014,
          2015,
          2016,
          2017,
          2018,
          2019,
          2020
         ],
         "y": [
          1,
          2,
          2,
          7,
          8,
          76,
          41,
          38,
          44,
          23,
          6,
          -14,
          -25,
          -5,
          -6
         ]
        }
       ],
       "layout": {
        "margin": {
         "b": 50,
         "l": 50,
         "r": 30,
         "t": 50
        },
        "template": {
         "data": {
          "bar": [
           {
            "error_x": {
             "color": "#2a3f5f"
            },
            "error_y": {
             "color": "#2a3f5f"
            },
            "marker": {
             "line": {
              "color": "#E5ECF6",
              "width": 0.5
             },
             "pattern": {
              "fillmode": "overlay",
              "size": 10,
              "solidity": 0.2
             }
            },
            "type": "bar"
           }
          ],
          "barpolar": [
           {
            "marker": {
             "line": {
              "color": "#E5ECF6",
              "width": 0.5
             },
             "pattern": {
              "fillmode": "overlay",
              "size": 10,
              "solidity": 0.2
             }
            },
            "type": "barpolar"
           }
          ],
          "carpet": [
           {
            "aaxis": {
             "endlinecolor": "#2a3f5f",
             "gridcolor": "white",
             "linecolor": "white",
             "minorgridcolor": "white",
             "startlinecolor": "#2a3f5f"
            },
            "baxis": {
             "endlinecolor": "#2a3f5f",
             "gridcolor": "white",
             "linecolor": "white",
             "minorgridcolor": "white",
             "startlinecolor": "#2a3f5f"
            },
            "type": "carpet"
           }
          ],
          "choropleth": [
           {
            "colorbar": {
             "outlinewidth": 0,
             "ticks": ""
            },
            "type": "choropleth"
           }
          ],
          "contour": [
           {
            "colorbar": {
             "outlinewidth": 0,
             "ticks": ""
            },
            "colorscale": [
             [
              0,
              "#0d0887"
             ],
             [
              0.1111111111111111,
              "#46039f"
             ],
             [
              0.2222222222222222,
              "#7201a8"
             ],
             [
              0.3333333333333333,
              "#9c179e"
             ],
             [
              0.4444444444444444,
              "#bd3786"
             ],
             [
              0.5555555555555556,
              "#d8576b"
             ],
             [
              0.6666666666666666,
              "#ed7953"
             ],
             [
              0.7777777777777778,
              "#fb9f3a"
             ],
             [
              0.8888888888888888,
              "#fdca26"
             ],
             [
              1,
              "#f0f921"
             ]
            ],
            "type": "contour"
           }
          ],
          "contourcarpet": [
           {
            "colorbar": {
             "outlinewidth": 0,
             "ticks": ""
            },
            "type": "contourcarpet"
           }
          ],
          "heatmap": [
           {
            "colorbar": {
             "outlinewidth": 0,
             "ticks": ""
            },
            "colorscale": [
             [
              0,
              "#0d0887"
             ],
             [
              0.1111111111111111,
              "#46039f"
             ],
             [
              0.2222222222222222,
              "#7201a8"
             ],
             [
              0.3333333333333333,
              "#9c179e"
             ],
             [
              0.4444444444444444,
              "#bd3786"
             ],
             [
              0.5555555555555556,
              "#d8576b"
             ],
             [
              0.6666666666666666,
              "#ed7953"
             ],
             [
              0.7777777777777778,
              "#fb9f3a"
             ],
             [
              0.8888888888888888,
              "#fdca26"
             ],
             [
              1,
              "#f0f921"
             ]
            ],
            "type": "heatmap"
           }
          ],
          "heatmapgl": [
           {
            "colorbar": {
             "outlinewidth": 0,
             "ticks": ""
            },
            "colorscale": [
             [
              0,
              "#0d0887"
             ],
             [
              0.1111111111111111,
              "#46039f"
             ],
             [
              0.2222222222222222,
              "#7201a8"
             ],
             [
              0.3333333333333333,
              "#9c179e"
             ],
             [
              0.4444444444444444,
              "#bd3786"
             ],
             [
              0.5555555555555556,
              "#d8576b"
             ],
             [
              0.6666666666666666,
              "#ed7953"
             ],
             [
              0.7777777777777778,
              "#fb9f3a"
             ],
             [
              0.8888888888888888,
              "#fdca26"
             ],
             [
              1,
              "#f0f921"
             ]
            ],
            "type": "heatmapgl"
           }
          ],
          "histogram": [
           {
            "marker": {
             "pattern": {
              "fillmode": "overlay",
              "size": 10,
              "solidity": 0.2
             }
            },
            "type": "histogram"
           }
          ],
          "histogram2d": [
           {
            "colorbar": {
             "outlinewidth": 0,
             "ticks": ""
            },
            "colorscale": [
             [
              0,
              "#0d0887"
             ],
             [
              0.1111111111111111,
              "#46039f"
             ],
             [
              0.2222222222222222,
              "#7201a8"
             ],
             [
              0.3333333333333333,
              "#9c179e"
             ],
             [
              0.4444444444444444,
              "#bd3786"
             ],
             [
              0.5555555555555556,
              "#d8576b"
             ],
             [
              0.6666666666666666,
              "#ed7953"
             ],
             [
              0.7777777777777778,
              "#fb9f3a"
             ],
             [
              0.8888888888888888,
              "#fdca26"
             ],
             [
              1,
              "#f0f921"
             ]
            ],
            "type": "histogram2d"
           }
          ],
          "histogram2dcontour": [
           {
            "colorbar": {
             "outlinewidth": 0,
             "ticks": ""
            },
            "colorscale": [
             [
              0,
              "#0d0887"
             ],
             [
              0.1111111111111111,
              "#46039f"
             ],
             [
              0.2222222222222222,
              "#7201a8"
             ],
             [
              0.3333333333333333,
              "#9c179e"
             ],
             [
              0.4444444444444444,
              "#bd3786"
             ],
             [
              0.5555555555555556,
              "#d8576b"
             ],
             [
              0.6666666666666666,
              "#ed7953"
             ],
             [
              0.7777777777777778,
              "#fb9f3a"
             ],
             [
              0.8888888888888888,
              "#fdca26"
             ],
             [
              1,
              "#f0f921"
             ]
            ],
            "type": "histogram2dcontour"
           }
          ],
          "mesh3d": [
           {
            "colorbar": {
             "outlinewidth": 0,
             "ticks": ""
            },
            "type": "mesh3d"
           }
          ],
          "parcoords": [
           {
            "line": {
             "colorbar": {
              "outlinewidth": 0,
              "ticks": ""
             }
            },
            "type": "parcoords"
           }
          ],
          "pie": [
           {
            "automargin": true,
            "type": "pie"
           }
          ],
          "scatter": [
           {
            "fillpattern": {
             "fillmode": "overlay",
             "size": 10,
             "solidity": 0.2
            },
            "type": "scatter"
           }
          ],
          "scatter3d": [
           {
            "line": {
             "colorbar": {
              "outlinewidth": 0,
              "ticks": ""
             }
            },
            "marker": {
             "colorbar": {
              "outlinewidth": 0,
              "ticks": ""
             }
            },
            "type": "scatter3d"
           }
          ],
          "scattercarpet": [
           {
            "marker": {
             "colorbar": {
              "outlinewidth": 0,
              "ticks": ""
             }
            },
            "type": "scattercarpet"
           }
          ],
          "scattergeo": [
           {
            "marker": {
             "colorbar": {
              "outlinewidth": 0,
              "ticks": ""
             }
            },
            "type": "scattergeo"
           }
          ],
          "scattergl": [
           {
            "marker": {
             "colorbar": {
              "outlinewidth": 0,
              "ticks": ""
             }
            },
            "type": "scattergl"
           }
          ],
          "scattermapbox": [
           {
            "marker": {
             "colorbar": {
              "outlinewidth": 0,
              "ticks": ""
             }
            },
            "type": "scattermapbox"
           }
          ],
          "scatterpolar": [
           {
            "marker": {
             "colorbar": {
              "outlinewidth": 0,
              "ticks": ""
             }
            },
            "type": "scatterpolar"
           }
          ],
          "scatterpolargl": [
           {
            "marker": {
             "colorbar": {
              "outlinewidth": 0,
              "ticks": ""
             }
            },
            "type": "scatterpolargl"
           }
          ],
          "scatterternary": [
           {
            "marker": {
             "colorbar": {
              "outlinewidth": 0,
              "ticks": ""
             }
            },
            "type": "scatterternary"
           }
          ],
          "surface": [
           {
            "colorbar": {
             "outlinewidth": 0,
             "ticks": ""
            },
            "colorscale": [
             [
              0,
              "#0d0887"
             ],
             [
              0.1111111111111111,
              "#46039f"
             ],
             [
              0.2222222222222222,
              "#7201a8"
             ],
             [
              0.3333333333333333,
              "#9c179e"
             ],
             [
              0.4444444444444444,
              "#bd3786"
             ],
             [
              0.5555555555555556,
              "#d8576b"
             ],
             [
              0.6666666666666666,
              "#ed7953"
             ],
             [
              0.7777777777777778,
              "#fb9f3a"
             ],
             [
              0.8888888888888888,
              "#fdca26"
             ],
             [
              1,
              "#f0f921"
             ]
            ],
            "type": "surface"
           }
          ],
          "table": [
           {
            "cells": {
             "fill": {
              "color": "#EBF0F8"
             },
             "line": {
              "color": "white"
             }
            },
            "header": {
             "fill": {
              "color": "#C8D4E3"
             },
             "line": {
              "color": "white"
             }
            },
            "type": "table"
           }
          ]
         },
         "layout": {
          "annotationdefaults": {
           "arrowcolor": "#2a3f5f",
           "arrowhead": 0,
           "arrowwidth": 1
          },
          "autotypenumbers": "strict",
          "coloraxis": {
           "colorbar": {
            "outlinewidth": 0,
            "ticks": ""
           }
          },
          "colorscale": {
           "diverging": [
            [
             0,
             "#8e0152"
            ],
            [
             0.1,
             "#c51b7d"
            ],
            [
             0.2,
             "#de77ae"
            ],
            [
             0.3,
             "#f1b6da"
            ],
            [
             0.4,
             "#fde0ef"
            ],
            [
             0.5,
             "#f7f7f7"
            ],
            [
             0.6,
             "#e6f5d0"
            ],
            [
             0.7,
             "#b8e186"
            ],
            [
             0.8,
             "#7fbc41"
            ],
            [
             0.9,
             "#4d9221"
            ],
            [
             1,
             "#276419"
            ]
           ],
           "sequential": [
            [
             0,
             "#0d0887"
            ],
            [
             0.1111111111111111,
             "#46039f"
            ],
            [
             0.2222222222222222,
             "#7201a8"
            ],
            [
             0.3333333333333333,
             "#9c179e"
            ],
            [
             0.4444444444444444,
             "#bd3786"
            ],
            [
             0.5555555555555556,
             "#d8576b"
            ],
            [
             0.6666666666666666,
             "#ed7953"
            ],
            [
             0.7777777777777778,
             "#fb9f3a"
            ],
            [
             0.8888888888888888,
             "#fdca26"
            ],
            [
             1,
             "#f0f921"
            ]
           ],
           "sequentialminus": [
            [
             0,
             "#0d0887"
            ],
            [
             0.1111111111111111,
             "#46039f"
            ],
            [
             0.2222222222222222,
             "#7201a8"
            ],
            [
             0.3333333333333333,
             "#9c179e"
            ],
            [
             0.4444444444444444,
             "#bd3786"
            ],
            [
             0.5555555555555556,
             "#d8576b"
            ],
            [
             0.6666666666666666,
             "#ed7953"
            ],
            [
             0.7777777777777778,
             "#fb9f3a"
            ],
            [
             0.8888888888888888,
             "#fdca26"
            ],
            [
             1,
             "#f0f921"
            ]
           ]
          },
          "colorway": [
           "#636efa",
           "#EF553B",
           "#00cc96",
           "#ab63fa",
           "#FFA15A",
           "#19d3f3",
           "#FF6692",
           "#B6E880",
           "#FF97FF",
           "#FECB52"
          ],
          "font": {
           "color": "#2a3f5f"
          },
          "geo": {
           "bgcolor": "white",
           "lakecolor": "white",
           "landcolor": "#E5ECF6",
           "showlakes": true,
           "showland": true,
           "subunitcolor": "white"
          },
          "hoverlabel": {
           "align": "left"
          },
          "hovermode": "closest",
          "mapbox": {
           "style": "light"
          },
          "paper_bgcolor": "white",
          "plot_bgcolor": "#E5ECF6",
          "polar": {
           "angularaxis": {
            "gridcolor": "white",
            "linecolor": "white",
            "ticks": ""
           },
           "bgcolor": "#E5ECF6",
           "radialaxis": {
            "gridcolor": "white",
            "linecolor": "white",
            "ticks": ""
           }
          },
          "scene": {
           "xaxis": {
            "backgroundcolor": "#E5ECF6",
            "gridcolor": "white",
            "gridwidth": 2,
            "linecolor": "white",
            "showbackground": true,
            "ticks": "",
            "zerolinecolor": "white"
           },
           "yaxis": {
            "backgroundcolor": "#E5ECF6",
            "gridcolor": "white",
            "gridwidth": 2,
            "linecolor": "white",
            "showbackground": true,
            "ticks": "",
            "zerolinecolor": "white"
           },
           "zaxis": {
            "backgroundcolor": "#E5ECF6",
            "gridcolor": "white",
            "gridwidth": 2,
            "linecolor": "white",
            "showbackground": true,
            "ticks": "",
            "zerolinecolor": "white"
           }
          },
          "shapedefaults": {
           "line": {
            "color": "#2a3f5f"
           }
          },
          "ternary": {
           "aaxis": {
            "gridcolor": "white",
            "linecolor": "white",
            "ticks": ""
           },
           "baxis": {
            "gridcolor": "white",
            "linecolor": "white",
            "ticks": ""
           },
           "bgcolor": "#E5ECF6",
           "caxis": {
            "gridcolor": "white",
            "linecolor": "white",
            "ticks": ""
           }
          },
          "title": {
           "x": 0.05
          },
          "xaxis": {
           "automargin": true,
           "gridcolor": "white",
           "linecolor": "white",
           "ticks": "",
           "title": {
            "standoff": 15
           },
           "zerolinecolor": "white",
           "zerolinewidth": 2
          },
          "yaxis": {
           "automargin": true,
           "gridcolor": "white",
           "linecolor": "white",
           "ticks": "",
           "title": {
            "standoff": 15
           },
           "zerolinecolor": "white",
           "zerolinewidth": 2
          }
         }
        },
        "title": {
         "text": "Pertumbuhan Karyawan Tiap Tahun"
        },
        "xaxis": {
         "range": [
          2006,
          2020
         ],
         "title": {
          "text": "Tahun"
         }
        },
        "yaxis": {
         "range": [
          0,
          300
         ],
         "title": {
          "text": "Pertumbuhan Karyawan"
         }
        }
       }
      }
     },
     "metadata": {},
     "output_type": "display_data"
    }
   ],
   "source": [
    "fig = go.Figure()\n",
    "fig.add_trace(go.Waterfall(x = df_Number_Changes[\"Tahun\"],\n",
    "                          y = df_Number_Changes[\"Pertumbuhan Karyawan\"],\n",
    "                        #   measure = df[\"measure\"].tolist(),\n",
    "                          base = 0,   #by default\n",
    "                           connector = {\"line\":{\"dash\":\"dot\"}}, #get dotted line as connector\n",
    "                           textposition = \"outside\",\n",
    "                           text = df_Number_Changes[\"Pertumbuhan Karyawan\"].tolist(),\n",
    "                           orientation = \"v\"  #by default\n",
    "                          ))\n",
    "fig.update_layout(title = \"Pertumbuhan Karyawan Tiap Tahun\")\n",
    "fig.update_xaxes(range = (2006, 2020), title = \"Tahun\")\n",
    "fig.update_yaxes(range = (0, 300), title = \"Pertumbuhan Karyawan\")\n",
    "fig.update_layout(\n",
    "    margin=dict(l=50, r=30, t=50, b=50),\n",
    ")\n",
    "fig.show()"
   ]
  },
  {
   "cell_type": "markdown",
   "metadata": {},
   "source": [
    "From the plot, the employee count has shown an increase from 2006 to 2016, with a significant increase observed between 2011 and 2015, suggesting a period of significant expansion for the company. However, a decrease in the number of employees is evident from 2017 to 2020, a decrease that warrants special attention as it may impact the company's overall performance."
   ]
  },
  {
   "cell_type": "markdown",
   "metadata": {},
   "source": [
    "---\n",
    "# Stage 3: Resign Reason Analysis For Employee Attrition Management Strategy\n",
    "---"
   ]
  },
  {
   "cell_type": "markdown",
   "metadata": {},
   "source": [
    "- Number of resign and not yet resign based on job"
   ]
  },
  {
   "cell_type": "code",
   "execution_count": 19,
   "metadata": {},
   "outputs": [
    {
     "data": {
      "text/html": [
       "<div>\n",
       "<style scoped>\n",
       "    .dataframe tbody tr th:only-of-type {\n",
       "        vertical-align: middle;\n",
       "    }\n",
       "\n",
       "    .dataframe tbody tr th {\n",
       "        vertical-align: top;\n",
       "    }\n",
       "\n",
       "    .dataframe thead th {\n",
       "        text-align: right;\n",
       "    }\n",
       "</style>\n",
       "<table border=\"1\" class=\"dataframe\">\n",
       "  <thead>\n",
       "    <tr style=\"text-align: right;\">\n",
       "      <th></th>\n",
       "      <th>Username</th>\n",
       "      <th>EnterpriseID</th>\n",
       "      <th>StatusPernikahan</th>\n",
       "      <th>JenisKelamin</th>\n",
       "      <th>StatusKepegawaian</th>\n",
       "      <th>Pekerjaan</th>\n",
       "      <th>JenjangKarir</th>\n",
       "      <th>PerformancePegawai</th>\n",
       "      <th>AsalDaerah</th>\n",
       "      <th>HiringPlatform</th>\n",
       "      <th>SkorSurveyEngagement</th>\n",
       "      <th>SkorKepuasanPegawai</th>\n",
       "      <th>JumlahKeikutsertaanProjek</th>\n",
       "      <th>JumlahKeterlambatanSebulanTerakhir</th>\n",
       "      <th>JumlahKetidakhadiran</th>\n",
       "      <th>NomorHP</th>\n",
       "      <th>Email</th>\n",
       "      <th>TingkatPendidikan</th>\n",
       "      <th>AlasanResign</th>\n",
       "      <th>TanggalLahir</th>\n",
       "      <th>TanggalHiring</th>\n",
       "      <th>TanggalPenilaianKaryawan</th>\n",
       "      <th>TanggalResign</th>\n",
       "      <th>Umur_pd_Penilaian</th>\n",
       "      <th>Months_Hiring_Penilaian</th>\n",
       "      <th>Tahun_Hiring</th>\n",
       "      <th>Tahun_Resign</th>\n",
       "    </tr>\n",
       "  </thead>\n",
       "  <tbody>\n",
       "    <tr>\n",
       "      <th>0</th>\n",
       "      <td>spiritedPorpoise3</td>\n",
       "      <td>111065</td>\n",
       "      <td>Belum_menikah</td>\n",
       "      <td>Pria</td>\n",
       "      <td>Outsource</td>\n",
       "      <td>Software Engineer (Back End)</td>\n",
       "      <td>Freshgraduate_program</td>\n",
       "      <td>Sangat_bagus</td>\n",
       "      <td>Jakarta Timur</td>\n",
       "      <td>Employee_Referral</td>\n",
       "      <td>4</td>\n",
       "      <td>4.0</td>\n",
       "      <td>0.0</td>\n",
       "      <td>0.0</td>\n",
       "      <td>9.0</td>\n",
       "      <td>+6282232522xxx</td>\n",
       "      <td>spiritedPorpoise3135@yahoo.com</td>\n",
       "      <td>Magister</td>\n",
       "      <td>masih_bekerja</td>\n",
       "      <td>1972-07-01</td>\n",
       "      <td>2011-01-10</td>\n",
       "      <td>2016-02-15</td>\n",
       "      <td>NaT</td>\n",
       "      <td>44</td>\n",
       "      <td>60</td>\n",
       "      <td>2011</td>\n",
       "      <td>NaN</td>\n",
       "    </tr>\n",
       "    <tr>\n",
       "      <th>3</th>\n",
       "      <td>stressedTruffle1</td>\n",
       "      <td>106325</td>\n",
       "      <td>Belum_menikah</td>\n",
       "      <td>Pria</td>\n",
       "      <td>Outsource</td>\n",
       "      <td>Software Engineer (Front End)</td>\n",
       "      <td>Freshgraduate_program</td>\n",
       "      <td>Bagus</td>\n",
       "      <td>Jakarta Pusat</td>\n",
       "      <td>LinkedIn</td>\n",
       "      <td>3</td>\n",
       "      <td>3.0</td>\n",
       "      <td>0.0</td>\n",
       "      <td>4.0</td>\n",
       "      <td>6.0</td>\n",
       "      <td>+6283233846xxx</td>\n",
       "      <td>stressedTruffle1406@hotmail.com</td>\n",
       "      <td>Sarjana</td>\n",
       "      <td>masih_bekerja</td>\n",
       "      <td>1979-11-24</td>\n",
       "      <td>2014-02-17</td>\n",
       "      <td>2020-02-04</td>\n",
       "      <td>NaT</td>\n",
       "      <td>41</td>\n",
       "      <td>70</td>\n",
       "      <td>2014</td>\n",
       "      <td>NaN</td>\n",
       "    </tr>\n",
       "    <tr>\n",
       "      <th>5</th>\n",
       "      <td>emptyMacaw4</td>\n",
       "      <td>106419</td>\n",
       "      <td>Belum_menikah</td>\n",
       "      <td>Wanita</td>\n",
       "      <td>Outsource</td>\n",
       "      <td>Software Engineer (Front End)</td>\n",
       "      <td>Senior_level</td>\n",
       "      <td>Biasa</td>\n",
       "      <td>Jakarta Selatan</td>\n",
       "      <td>Indeed</td>\n",
       "      <td>3</td>\n",
       "      <td>4.0</td>\n",
       "      <td>6.0</td>\n",
       "      <td>0.0</td>\n",
       "      <td>10.0</td>\n",
       "      <td>+6283886053xxx</td>\n",
       "      <td>emptyMacaw4468@yahoo.com</td>\n",
       "      <td>Sarjana</td>\n",
       "      <td>masih_bekerja</td>\n",
       "      <td>1980-05-12</td>\n",
       "      <td>2016-10-02</td>\n",
       "      <td>2020-02-06</td>\n",
       "      <td>NaT</td>\n",
       "      <td>40</td>\n",
       "      <td>39</td>\n",
       "      <td>2016</td>\n",
       "      <td>NaN</td>\n",
       "    </tr>\n",
       "    <tr>\n",
       "      <th>6</th>\n",
       "      <td>madZebra1</td>\n",
       "      <td>100309</td>\n",
       "      <td>Menikah</td>\n",
       "      <td>Wanita</td>\n",
       "      <td>FullTime</td>\n",
       "      <td>Data Analyst</td>\n",
       "      <td>Freshgraduate_program</td>\n",
       "      <td>Biasa</td>\n",
       "      <td>Jakarta Utara</td>\n",
       "      <td>LinkedIn</td>\n",
       "      <td>2</td>\n",
       "      <td>3.0</td>\n",
       "      <td>4.0</td>\n",
       "      <td>0.0</td>\n",
       "      <td>19.0</td>\n",
       "      <td>+6285735701xxx</td>\n",
       "      <td>madZebra1244@icloud.com</td>\n",
       "      <td>Sarjana</td>\n",
       "      <td>masih_bekerja</td>\n",
       "      <td>1979-05-24</td>\n",
       "      <td>2014-11-10</td>\n",
       "      <td>2020-01-02</td>\n",
       "      <td>NaT</td>\n",
       "      <td>41</td>\n",
       "      <td>60</td>\n",
       "      <td>2014</td>\n",
       "      <td>NaN</td>\n",
       "    </tr>\n",
       "    <tr>\n",
       "      <th>7</th>\n",
       "      <td>cynicalMandrill7</td>\n",
       "      <td>110500</td>\n",
       "      <td>Belum_menikah</td>\n",
       "      <td>Pria</td>\n",
       "      <td>FullTime</td>\n",
       "      <td>Software Engineer (Back End)</td>\n",
       "      <td>Senior_level</td>\n",
       "      <td>Kurang</td>\n",
       "      <td>Jakarta Selatan</td>\n",
       "      <td>LinkedIn</td>\n",
       "      <td>2</td>\n",
       "      <td>5.0</td>\n",
       "      <td>0.0</td>\n",
       "      <td>0.0</td>\n",
       "      <td>4.0</td>\n",
       "      <td>+6281293511xxx</td>\n",
       "      <td>cynicalMandrill7920@hotmail.com</td>\n",
       "      <td>Magister</td>\n",
       "      <td>masih_bekerja</td>\n",
       "      <td>1983-08-24</td>\n",
       "      <td>2013-07-08</td>\n",
       "      <td>2020-01-14</td>\n",
       "      <td>NaT</td>\n",
       "      <td>37</td>\n",
       "      <td>76</td>\n",
       "      <td>2013</td>\n",
       "      <td>NaN</td>\n",
       "    </tr>\n",
       "    <tr>\n",
       "      <th>...</th>\n",
       "      <td>...</td>\n",
       "      <td>...</td>\n",
       "      <td>...</td>\n",
       "      <td>...</td>\n",
       "      <td>...</td>\n",
       "      <td>...</td>\n",
       "      <td>...</td>\n",
       "      <td>...</td>\n",
       "      <td>...</td>\n",
       "      <td>...</td>\n",
       "      <td>...</td>\n",
       "      <td>...</td>\n",
       "      <td>...</td>\n",
       "      <td>...</td>\n",
       "      <td>...</td>\n",
       "      <td>...</td>\n",
       "      <td>...</td>\n",
       "      <td>...</td>\n",
       "      <td>...</td>\n",
       "      <td>...</td>\n",
       "      <td>...</td>\n",
       "      <td>...</td>\n",
       "      <td>...</td>\n",
       "      <td>...</td>\n",
       "      <td>...</td>\n",
       "      <td>...</td>\n",
       "      <td>...</td>\n",
       "    </tr>\n",
       "    <tr>\n",
       "      <th>279</th>\n",
       "      <td>peacefulChamois3</td>\n",
       "      <td>106257</td>\n",
       "      <td>Belum_menikah</td>\n",
       "      <td>Wanita</td>\n",
       "      <td>FullTime</td>\n",
       "      <td>Product Design (UI &amp; UX)</td>\n",
       "      <td>Freshgraduate_program</td>\n",
       "      <td>Bagus</td>\n",
       "      <td>Jakarta Pusat</td>\n",
       "      <td>LinkedIn</td>\n",
       "      <td>3</td>\n",
       "      <td>4.0</td>\n",
       "      <td>0.0</td>\n",
       "      <td>0.0</td>\n",
       "      <td>13.0</td>\n",
       "      <td>+6282208741xxx</td>\n",
       "      <td>peacefulChamois3574@icloud.com</td>\n",
       "      <td>Doktor</td>\n",
       "      <td>unknown</td>\n",
       "      <td>1980-04-18</td>\n",
       "      <td>2013-07-08</td>\n",
       "      <td>2020-01-22</td>\n",
       "      <td>NaT</td>\n",
       "      <td>40</td>\n",
       "      <td>77</td>\n",
       "      <td>2013</td>\n",
       "      <td>NaN</td>\n",
       "    </tr>\n",
       "    <tr>\n",
       "      <th>280</th>\n",
       "      <td>anxiousTeal2</td>\n",
       "      <td>111378</td>\n",
       "      <td>Belum_menikah</td>\n",
       "      <td>Wanita</td>\n",
       "      <td>FullTime</td>\n",
       "      <td>Software Engineer (Back End)</td>\n",
       "      <td>Mid_level</td>\n",
       "      <td>Bagus</td>\n",
       "      <td>Jakarta Timur</td>\n",
       "      <td>Employee_Referral</td>\n",
       "      <td>3</td>\n",
       "      <td>5.0</td>\n",
       "      <td>7.0</td>\n",
       "      <td>0.0</td>\n",
       "      <td>16.0</td>\n",
       "      <td>+6289567915xxx</td>\n",
       "      <td>anxiousTeal2015@gmail.com</td>\n",
       "      <td>Sarjana</td>\n",
       "      <td>unknown</td>\n",
       "      <td>1984-09-16</td>\n",
       "      <td>2014-11-10</td>\n",
       "      <td>2020-01-04</td>\n",
       "      <td>NaT</td>\n",
       "      <td>36</td>\n",
       "      <td>60</td>\n",
       "      <td>2014</td>\n",
       "      <td>NaN</td>\n",
       "    </tr>\n",
       "    <tr>\n",
       "      <th>281</th>\n",
       "      <td>anxiousWasp6</td>\n",
       "      <td>100628</td>\n",
       "      <td>Bercerai</td>\n",
       "      <td>Pria</td>\n",
       "      <td>FullTime</td>\n",
       "      <td>Software Engineer (Front End)</td>\n",
       "      <td>Freshgraduate_program</td>\n",
       "      <td>Sangat_bagus</td>\n",
       "      <td>Jakarta Pusat</td>\n",
       "      <td>Indeed</td>\n",
       "      <td>2</td>\n",
       "      <td>5.0</td>\n",
       "      <td>7.0</td>\n",
       "      <td>0.0</td>\n",
       "      <td>15.0</td>\n",
       "      <td>+6281806218xxx</td>\n",
       "      <td>anxiousWasp6788@outlook.com</td>\n",
       "      <td>Sarjana</td>\n",
       "      <td>unknown</td>\n",
       "      <td>1983-09-04</td>\n",
       "      <td>2017-02-15</td>\n",
       "      <td>2020-01-23</td>\n",
       "      <td>NaT</td>\n",
       "      <td>37</td>\n",
       "      <td>34</td>\n",
       "      <td>2017</td>\n",
       "      <td>NaN</td>\n",
       "    </tr>\n",
       "    <tr>\n",
       "      <th>282</th>\n",
       "      <td>dopeySheep0</td>\n",
       "      <td>106034</td>\n",
       "      <td>Belum_menikah</td>\n",
       "      <td>Wanita</td>\n",
       "      <td>FullTime</td>\n",
       "      <td>Data Engineer</td>\n",
       "      <td>Mid_level</td>\n",
       "      <td>Bagus</td>\n",
       "      <td>Jakarta Pusat</td>\n",
       "      <td>Google_Search</td>\n",
       "      <td>2</td>\n",
       "      <td>5.0</td>\n",
       "      <td>0.0</td>\n",
       "      <td>0.0</td>\n",
       "      <td>16.0</td>\n",
       "      <td>+6283343465xxx</td>\n",
       "      <td>dopeySheep0297@icloud.com</td>\n",
       "      <td>Sarjana</td>\n",
       "      <td>unknown</td>\n",
       "      <td>1973-12-08</td>\n",
       "      <td>2011-09-26</td>\n",
       "      <td>2016-03-01</td>\n",
       "      <td>NaT</td>\n",
       "      <td>43</td>\n",
       "      <td>52</td>\n",
       "      <td>2011</td>\n",
       "      <td>NaN</td>\n",
       "    </tr>\n",
       "    <tr>\n",
       "      <th>286</th>\n",
       "      <td>puzzledFish5</td>\n",
       "      <td>106214</td>\n",
       "      <td>Menikah</td>\n",
       "      <td>Pria</td>\n",
       "      <td>Internship</td>\n",
       "      <td>Data Analyst</td>\n",
       "      <td>Mid_level</td>\n",
       "      <td>Bagus</td>\n",
       "      <td>Jakarta Barat</td>\n",
       "      <td>Indeed</td>\n",
       "      <td>4</td>\n",
       "      <td>3.0</td>\n",
       "      <td>0.0</td>\n",
       "      <td>0.0</td>\n",
       "      <td>2.0</td>\n",
       "      <td>+6287722818xxx</td>\n",
       "      <td>puzzledFish5776@hotmail.com</td>\n",
       "      <td>Sarjana</td>\n",
       "      <td>unknown</td>\n",
       "      <td>1981-08-10</td>\n",
       "      <td>2012-08-16</td>\n",
       "      <td>2020-01-14</td>\n",
       "      <td>NaT</td>\n",
       "      <td>39</td>\n",
       "      <td>87</td>\n",
       "      <td>2012</td>\n",
       "      <td>NaN</td>\n",
       "    </tr>\n",
       "  </tbody>\n",
       "</table>\n",
       "<p>198 rows × 27 columns</p>\n",
       "</div>"
      ],
      "text/plain": [
       "              Username  EnterpriseID StatusPernikahan JenisKelamin   \n",
       "0    spiritedPorpoise3        111065    Belum_menikah         Pria  \\\n",
       "3     stressedTruffle1        106325    Belum_menikah         Pria   \n",
       "5          emptyMacaw4        106419    Belum_menikah       Wanita   \n",
       "6            madZebra1        100309          Menikah       Wanita   \n",
       "7     cynicalMandrill7        110500    Belum_menikah         Pria   \n",
       "..                 ...           ...              ...          ...   \n",
       "279   peacefulChamois3        106257    Belum_menikah       Wanita   \n",
       "280       anxiousTeal2        111378    Belum_menikah       Wanita   \n",
       "281       anxiousWasp6        100628         Bercerai         Pria   \n",
       "282        dopeySheep0        106034    Belum_menikah       Wanita   \n",
       "286       puzzledFish5        106214          Menikah         Pria   \n",
       "\n",
       "    StatusKepegawaian                      Pekerjaan           JenjangKarir   \n",
       "0           Outsource   Software Engineer (Back End)  Freshgraduate_program  \\\n",
       "3           Outsource  Software Engineer (Front End)  Freshgraduate_program   \n",
       "5           Outsource  Software Engineer (Front End)           Senior_level   \n",
       "6            FullTime                   Data Analyst  Freshgraduate_program   \n",
       "7            FullTime   Software Engineer (Back End)           Senior_level   \n",
       "..                ...                            ...                    ...   \n",
       "279          FullTime       Product Design (UI & UX)  Freshgraduate_program   \n",
       "280          FullTime   Software Engineer (Back End)              Mid_level   \n",
       "281          FullTime  Software Engineer (Front End)  Freshgraduate_program   \n",
       "282          FullTime                  Data Engineer              Mid_level   \n",
       "286        Internship                   Data Analyst              Mid_level   \n",
       "\n",
       "    PerformancePegawai       AsalDaerah     HiringPlatform   \n",
       "0         Sangat_bagus    Jakarta Timur  Employee_Referral  \\\n",
       "3                Bagus    Jakarta Pusat           LinkedIn   \n",
       "5                Biasa  Jakarta Selatan             Indeed   \n",
       "6                Biasa    Jakarta Utara           LinkedIn   \n",
       "7               Kurang  Jakarta Selatan           LinkedIn   \n",
       "..                 ...              ...                ...   \n",
       "279              Bagus    Jakarta Pusat           LinkedIn   \n",
       "280              Bagus    Jakarta Timur  Employee_Referral   \n",
       "281       Sangat_bagus    Jakarta Pusat             Indeed   \n",
       "282              Bagus    Jakarta Pusat      Google_Search   \n",
       "286              Bagus    Jakarta Barat             Indeed   \n",
       "\n",
       "     SkorSurveyEngagement  SkorKepuasanPegawai  JumlahKeikutsertaanProjek   \n",
       "0                       4                  4.0                        0.0  \\\n",
       "3                       3                  3.0                        0.0   \n",
       "5                       3                  4.0                        6.0   \n",
       "6                       2                  3.0                        4.0   \n",
       "7                       2                  5.0                        0.0   \n",
       "..                    ...                  ...                        ...   \n",
       "279                     3                  4.0                        0.0   \n",
       "280                     3                  5.0                        7.0   \n",
       "281                     2                  5.0                        7.0   \n",
       "282                     2                  5.0                        0.0   \n",
       "286                     4                  3.0                        0.0   \n",
       "\n",
       "     JumlahKeterlambatanSebulanTerakhir  JumlahKetidakhadiran         NomorHP   \n",
       "0                                   0.0                   9.0  +6282232522xxx  \\\n",
       "3                                   4.0                   6.0  +6283233846xxx   \n",
       "5                                   0.0                  10.0  +6283886053xxx   \n",
       "6                                   0.0                  19.0  +6285735701xxx   \n",
       "7                                   0.0                   4.0  +6281293511xxx   \n",
       "..                                  ...                   ...             ...   \n",
       "279                                 0.0                  13.0  +6282208741xxx   \n",
       "280                                 0.0                  16.0  +6289567915xxx   \n",
       "281                                 0.0                  15.0  +6281806218xxx   \n",
       "282                                 0.0                  16.0  +6283343465xxx   \n",
       "286                                 0.0                   2.0  +6287722818xxx   \n",
       "\n",
       "                               Email TingkatPendidikan   AlasanResign   \n",
       "0     spiritedPorpoise3135@yahoo.com          Magister  masih_bekerja  \\\n",
       "3    stressedTruffle1406@hotmail.com           Sarjana  masih_bekerja   \n",
       "5           emptyMacaw4468@yahoo.com           Sarjana  masih_bekerja   \n",
       "6            madZebra1244@icloud.com           Sarjana  masih_bekerja   \n",
       "7    cynicalMandrill7920@hotmail.com          Magister  masih_bekerja   \n",
       "..                               ...               ...            ...   \n",
       "279   peacefulChamois3574@icloud.com            Doktor        unknown   \n",
       "280        anxiousTeal2015@gmail.com           Sarjana        unknown   \n",
       "281      anxiousWasp6788@outlook.com           Sarjana        unknown   \n",
       "282        dopeySheep0297@icloud.com           Sarjana        unknown   \n",
       "286      puzzledFish5776@hotmail.com           Sarjana        unknown   \n",
       "\n",
       "    TanggalLahir TanggalHiring TanggalPenilaianKaryawan TanggalResign   \n",
       "0     1972-07-01    2011-01-10               2016-02-15           NaT  \\\n",
       "3     1979-11-24    2014-02-17               2020-02-04           NaT   \n",
       "5     1980-05-12    2016-10-02               2020-02-06           NaT   \n",
       "6     1979-05-24    2014-11-10               2020-01-02           NaT   \n",
       "7     1983-08-24    2013-07-08               2020-01-14           NaT   \n",
       "..           ...           ...                      ...           ...   \n",
       "279   1980-04-18    2013-07-08               2020-01-22           NaT   \n",
       "280   1984-09-16    2014-11-10               2020-01-04           NaT   \n",
       "281   1983-09-04    2017-02-15               2020-01-23           NaT   \n",
       "282   1973-12-08    2011-09-26               2016-03-01           NaT   \n",
       "286   1981-08-10    2012-08-16               2020-01-14           NaT   \n",
       "\n",
       "     Umur_pd_Penilaian  Months_Hiring_Penilaian  Tahun_Hiring  Tahun_Resign  \n",
       "0                   44                       60          2011           NaN  \n",
       "3                   41                       70          2014           NaN  \n",
       "5                   40                       39          2016           NaN  \n",
       "6                   41                       60          2014           NaN  \n",
       "7                   37                       76          2013           NaN  \n",
       "..                 ...                      ...           ...           ...  \n",
       "279                 40                       77          2013           NaN  \n",
       "280                 36                       60          2014           NaN  \n",
       "281                 37                       34          2017           NaN  \n",
       "282                 43                       52          2011           NaN  \n",
       "286                 39                       87          2012           NaN  \n",
       "\n",
       "[198 rows x 27 columns]"
      ]
     },
     "execution_count": 19,
     "metadata": {},
     "output_type": "execute_result"
    }
   ],
   "source": [
    "df[df['Tahun_Resign'].isnull()]"
   ]
  },
  {
   "cell_type": "code",
   "execution_count": 20,
   "metadata": {},
   "outputs": [
    {
     "data": {
      "text/html": [
       "<div>\n",
       "<style scoped>\n",
       "    .dataframe tbody tr th:only-of-type {\n",
       "        vertical-align: middle;\n",
       "    }\n",
       "\n",
       "    .dataframe tbody tr th {\n",
       "        vertical-align: top;\n",
       "    }\n",
       "\n",
       "    .dataframe thead th {\n",
       "        text-align: right;\n",
       "    }\n",
       "</style>\n",
       "<table border=\"1\" class=\"dataframe\">\n",
       "  <thead>\n",
       "    <tr style=\"text-align: right;\">\n",
       "      <th></th>\n",
       "      <th>Pekerjaan</th>\n",
       "      <th>Jumlah Resign</th>\n",
       "    </tr>\n",
       "  </thead>\n",
       "  <tbody>\n",
       "    <tr>\n",
       "      <th>0</th>\n",
       "      <td>Data Analyst</td>\n",
       "      <td>8</td>\n",
       "    </tr>\n",
       "    <tr>\n",
       "      <th>1</th>\n",
       "      <td>Data Engineer</td>\n",
       "      <td>3</td>\n",
       "    </tr>\n",
       "    <tr>\n",
       "      <th>2</th>\n",
       "      <td>Product Design (UI &amp; UX)</td>\n",
       "      <td>9</td>\n",
       "    </tr>\n",
       "    <tr>\n",
       "      <th>3</th>\n",
       "      <td>Product Manager</td>\n",
       "      <td>6</td>\n",
       "    </tr>\n",
       "    <tr>\n",
       "      <th>4</th>\n",
       "      <td>Software Engineer (Android)</td>\n",
       "      <td>7</td>\n",
       "    </tr>\n",
       "    <tr>\n",
       "      <th>5</th>\n",
       "      <td>Software Engineer (Back End)</td>\n",
       "      <td>28</td>\n",
       "    </tr>\n",
       "    <tr>\n",
       "      <th>6</th>\n",
       "      <td>Software Engineer (Front End)</td>\n",
       "      <td>28</td>\n",
       "    </tr>\n",
       "  </tbody>\n",
       "</table>\n",
       "</div>"
      ],
      "text/plain": [
       "                       Pekerjaan  Jumlah Resign\n",
       "0                   Data Analyst              8\n",
       "1                  Data Engineer              3\n",
       "2       Product Design (UI & UX)              9\n",
       "3                Product Manager              6\n",
       "4    Software Engineer (Android)              7\n",
       "5   Software Engineer (Back End)             28\n",
       "6  Software Engineer (Front End)             28"
      ]
     },
     "execution_count": 20,
     "metadata": {},
     "output_type": "execute_result"
    }
   ],
   "source": [
    "df_numberResign = df[df['Tahun_Resign'].notnull()].groupby(['Pekerjaan']).agg({\n",
    "    'Pekerjaan' : ['count']\n",
    "}).reset_index()\n",
    "df_numberResign.columns = ['Pekerjaan', 'Jumlah Resign']\n",
    "df_numberResign"
   ]
  },
  {
   "cell_type": "code",
   "execution_count": 21,
   "metadata": {},
   "outputs": [
    {
     "data": {
      "text/html": [
       "<div>\n",
       "<style scoped>\n",
       "    .dataframe tbody tr th:only-of-type {\n",
       "        vertical-align: middle;\n",
       "    }\n",
       "\n",
       "    .dataframe tbody tr th {\n",
       "        vertical-align: top;\n",
       "    }\n",
       "\n",
       "    .dataframe thead th {\n",
       "        text-align: right;\n",
       "    }\n",
       "</style>\n",
       "<table border=\"1\" class=\"dataframe\">\n",
       "  <thead>\n",
       "    <tr style=\"text-align: right;\">\n",
       "      <th></th>\n",
       "      <th>Pekerjaan</th>\n",
       "      <th>Jumlah Bertahan</th>\n",
       "    </tr>\n",
       "  </thead>\n",
       "  <tbody>\n",
       "    <tr>\n",
       "      <th>0</th>\n",
       "      <td>Data Analyst</td>\n",
       "      <td>8</td>\n",
       "    </tr>\n",
       "    <tr>\n",
       "      <th>1</th>\n",
       "      <td>Data Engineer</td>\n",
       "      <td>7</td>\n",
       "    </tr>\n",
       "    <tr>\n",
       "      <th>2</th>\n",
       "      <td>DevOps Engineer</td>\n",
       "      <td>3</td>\n",
       "    </tr>\n",
       "    <tr>\n",
       "      <th>3</th>\n",
       "      <td>Digital Product Manager</td>\n",
       "      <td>2</td>\n",
       "    </tr>\n",
       "    <tr>\n",
       "      <th>4</th>\n",
       "      <td>Machine Learning Engineer</td>\n",
       "      <td>2</td>\n",
       "    </tr>\n",
       "    <tr>\n",
       "      <th>5</th>\n",
       "      <td>Product Design (UI &amp; UX)</td>\n",
       "      <td>15</td>\n",
       "    </tr>\n",
       "    <tr>\n",
       "      <th>6</th>\n",
       "      <td>Product Design (UX Researcher)</td>\n",
       "      <td>1</td>\n",
       "    </tr>\n",
       "    <tr>\n",
       "      <th>7</th>\n",
       "      <td>Product Manager</td>\n",
       "      <td>11</td>\n",
       "    </tr>\n",
       "    <tr>\n",
       "      <th>8</th>\n",
       "      <td>Scrum Master</td>\n",
       "      <td>3</td>\n",
       "    </tr>\n",
       "    <tr>\n",
       "      <th>9</th>\n",
       "      <td>Software Architect</td>\n",
       "      <td>1</td>\n",
       "    </tr>\n",
       "    <tr>\n",
       "      <th>10</th>\n",
       "      <td>Software Engineer (Android)</td>\n",
       "      <td>17</td>\n",
       "    </tr>\n",
       "    <tr>\n",
       "      <th>11</th>\n",
       "      <td>Software Engineer (Back End)</td>\n",
       "      <td>81</td>\n",
       "    </tr>\n",
       "    <tr>\n",
       "      <th>12</th>\n",
       "      <td>Software Engineer (Front End)</td>\n",
       "      <td>44</td>\n",
       "    </tr>\n",
       "    <tr>\n",
       "      <th>13</th>\n",
       "      <td>Software Engineer (iOS)</td>\n",
       "      <td>3</td>\n",
       "    </tr>\n",
       "  </tbody>\n",
       "</table>\n",
       "</div>"
      ],
      "text/plain": [
       "                         Pekerjaan  Jumlah Bertahan\n",
       "0                     Data Analyst                8\n",
       "1                    Data Engineer                7\n",
       "2                  DevOps Engineer                3\n",
       "3          Digital Product Manager                2\n",
       "4        Machine Learning Engineer                2\n",
       "5         Product Design (UI & UX)               15\n",
       "6   Product Design (UX Researcher)                1\n",
       "7                  Product Manager               11\n",
       "8                     Scrum Master                3\n",
       "9               Software Architect                1\n",
       "10     Software Engineer (Android)               17\n",
       "11    Software Engineer (Back End)               81\n",
       "12   Software Engineer (Front End)               44\n",
       "13         Software Engineer (iOS)                3"
      ]
     },
     "execution_count": 21,
     "metadata": {},
     "output_type": "execute_result"
    }
   ],
   "source": [
    "df_numberStay = df[df['Tahun_Resign'].isnull()].groupby(['Pekerjaan']).agg({\n",
    "    'Pekerjaan' : ['count']\n",
    "}).reset_index()\n",
    "df_numberStay.columns = ['Pekerjaan', 'Jumlah Bertahan']\n",
    "df_numberStay"
   ]
  },
  {
   "cell_type": "code",
   "execution_count": 22,
   "metadata": {},
   "outputs": [
    {
     "data": {
      "text/html": [
       "<div>\n",
       "<style scoped>\n",
       "    .dataframe tbody tr th:only-of-type {\n",
       "        vertical-align: middle;\n",
       "    }\n",
       "\n",
       "    .dataframe tbody tr th {\n",
       "        vertical-align: top;\n",
       "    }\n",
       "\n",
       "    .dataframe thead th {\n",
       "        text-align: right;\n",
       "    }\n",
       "</style>\n",
       "<table border=\"1\" class=\"dataframe\">\n",
       "  <thead>\n",
       "    <tr style=\"text-align: right;\">\n",
       "      <th></th>\n",
       "      <th>Pekerjaan</th>\n",
       "      <th>Jumlah Resign</th>\n",
       "      <th>Jumlah Bertahan</th>\n",
       "    </tr>\n",
       "  </thead>\n",
       "  <tbody>\n",
       "    <tr>\n",
       "      <th>0</th>\n",
       "      <td>Data Analyst</td>\n",
       "      <td>8</td>\n",
       "      <td>8</td>\n",
       "    </tr>\n",
       "    <tr>\n",
       "      <th>1</th>\n",
       "      <td>Data Engineer</td>\n",
       "      <td>3</td>\n",
       "      <td>7</td>\n",
       "    </tr>\n",
       "    <tr>\n",
       "      <th>2</th>\n",
       "      <td>Product Design (UI &amp; UX)</td>\n",
       "      <td>9</td>\n",
       "      <td>15</td>\n",
       "    </tr>\n",
       "    <tr>\n",
       "      <th>3</th>\n",
       "      <td>Product Manager</td>\n",
       "      <td>6</td>\n",
       "      <td>11</td>\n",
       "    </tr>\n",
       "    <tr>\n",
       "      <th>4</th>\n",
       "      <td>Software Engineer (Android)</td>\n",
       "      <td>7</td>\n",
       "      <td>17</td>\n",
       "    </tr>\n",
       "    <tr>\n",
       "      <th>5</th>\n",
       "      <td>Software Engineer (Back End)</td>\n",
       "      <td>28</td>\n",
       "      <td>81</td>\n",
       "    </tr>\n",
       "    <tr>\n",
       "      <th>6</th>\n",
       "      <td>Software Engineer (Front End)</td>\n",
       "      <td>28</td>\n",
       "      <td>44</td>\n",
       "    </tr>\n",
       "    <tr>\n",
       "      <th>7</th>\n",
       "      <td>DevOps Engineer</td>\n",
       "      <td>0</td>\n",
       "      <td>3</td>\n",
       "    </tr>\n",
       "    <tr>\n",
       "      <th>8</th>\n",
       "      <td>Digital Product Manager</td>\n",
       "      <td>0</td>\n",
       "      <td>2</td>\n",
       "    </tr>\n",
       "    <tr>\n",
       "      <th>9</th>\n",
       "      <td>Machine Learning Engineer</td>\n",
       "      <td>0</td>\n",
       "      <td>2</td>\n",
       "    </tr>\n",
       "    <tr>\n",
       "      <th>10</th>\n",
       "      <td>Product Design (UX Researcher)</td>\n",
       "      <td>0</td>\n",
       "      <td>1</td>\n",
       "    </tr>\n",
       "    <tr>\n",
       "      <th>11</th>\n",
       "      <td>Scrum Master</td>\n",
       "      <td>0</td>\n",
       "      <td>3</td>\n",
       "    </tr>\n",
       "    <tr>\n",
       "      <th>12</th>\n",
       "      <td>Software Architect</td>\n",
       "      <td>0</td>\n",
       "      <td>1</td>\n",
       "    </tr>\n",
       "    <tr>\n",
       "      <th>13</th>\n",
       "      <td>Software Engineer (iOS)</td>\n",
       "      <td>0</td>\n",
       "      <td>3</td>\n",
       "    </tr>\n",
       "  </tbody>\n",
       "</table>\n",
       "</div>"
      ],
      "text/plain": [
       "                         Pekerjaan  Jumlah Resign  Jumlah Bertahan\n",
       "0                     Data Analyst              8                8\n",
       "1                    Data Engineer              3                7\n",
       "2         Product Design (UI & UX)              9               15\n",
       "3                  Product Manager              6               11\n",
       "4      Software Engineer (Android)              7               17\n",
       "5     Software Engineer (Back End)             28               81\n",
       "6    Software Engineer (Front End)             28               44\n",
       "7                  DevOps Engineer              0                3\n",
       "8          Digital Product Manager              0                2\n",
       "9        Machine Learning Engineer              0                2\n",
       "10  Product Design (UX Researcher)              0                1\n",
       "11                    Scrum Master              0                3\n",
       "12              Software Architect              0                1\n",
       "13         Software Engineer (iOS)              0                3"
      ]
     },
     "execution_count": 22,
     "metadata": {},
     "output_type": "execute_result"
    }
   ],
   "source": [
    "df_Resign_Stay = pd.merge(df_numberResign, df_numberStay, on='Pekerjaan', how='outer')\n",
    "df_Resign_Stay.fillna(0, inplace=True)\n",
    "df_Resign_Stay['Jumlah Resign'] = df_Resign_Stay['Jumlah Resign'].astype(int)\n",
    "df_Resign_Stay['Jumlah Bertahan'] = df_Resign_Stay['Jumlah Bertahan'].astype(int)\n",
    "df_Resign_Stay"
   ]
  },
  {
   "cell_type": "markdown",
   "metadata": {},
   "source": [
    "- Number of employees and percentage of resigned employees and stays employees"
   ]
  },
  {
   "cell_type": "code",
   "execution_count": 29,
   "metadata": {},
   "outputs": [
    {
     "data": {
      "text/html": [
       "<div>\n",
       "<style scoped>\n",
       "    .dataframe tbody tr th:only-of-type {\n",
       "        vertical-align: middle;\n",
       "    }\n",
       "\n",
       "    .dataframe tbody tr th {\n",
       "        vertical-align: top;\n",
       "    }\n",
       "\n",
       "    .dataframe thead th {\n",
       "        text-align: right;\n",
       "    }\n",
       "</style>\n",
       "<table border=\"1\" class=\"dataframe\">\n",
       "  <thead>\n",
       "    <tr style=\"text-align: right;\">\n",
       "      <th></th>\n",
       "      <th>Pekerjaan</th>\n",
       "      <th>Jumlah Resign</th>\n",
       "      <th>Jumlah Bertahan</th>\n",
       "      <th>Total Karyawan</th>\n",
       "      <th>Resign Rate</th>\n",
       "      <th>Stay Rate</th>\n",
       "    </tr>\n",
       "  </thead>\n",
       "  <tbody>\n",
       "    <tr>\n",
       "      <th>0</th>\n",
       "      <td>Data Analyst</td>\n",
       "      <td>8</td>\n",
       "      <td>8</td>\n",
       "      <td>16</td>\n",
       "      <td>50.00</td>\n",
       "      <td>50.00</td>\n",
       "    </tr>\n",
       "    <tr>\n",
       "      <th>1</th>\n",
       "      <td>Data Engineer</td>\n",
       "      <td>3</td>\n",
       "      <td>7</td>\n",
       "      <td>10</td>\n",
       "      <td>30.00</td>\n",
       "      <td>70.00</td>\n",
       "    </tr>\n",
       "    <tr>\n",
       "      <th>2</th>\n",
       "      <td>Product Design (UI &amp; UX)</td>\n",
       "      <td>9</td>\n",
       "      <td>15</td>\n",
       "      <td>24</td>\n",
       "      <td>37.50</td>\n",
       "      <td>62.50</td>\n",
       "    </tr>\n",
       "    <tr>\n",
       "      <th>3</th>\n",
       "      <td>Product Manager</td>\n",
       "      <td>6</td>\n",
       "      <td>11</td>\n",
       "      <td>17</td>\n",
       "      <td>35.29</td>\n",
       "      <td>64.71</td>\n",
       "    </tr>\n",
       "    <tr>\n",
       "      <th>4</th>\n",
       "      <td>Software Engineer (Android)</td>\n",
       "      <td>7</td>\n",
       "      <td>17</td>\n",
       "      <td>24</td>\n",
       "      <td>29.17</td>\n",
       "      <td>70.83</td>\n",
       "    </tr>\n",
       "    <tr>\n",
       "      <th>5</th>\n",
       "      <td>Software Engineer (Back End)</td>\n",
       "      <td>28</td>\n",
       "      <td>81</td>\n",
       "      <td>109</td>\n",
       "      <td>25.69</td>\n",
       "      <td>74.31</td>\n",
       "    </tr>\n",
       "    <tr>\n",
       "      <th>6</th>\n",
       "      <td>Software Engineer (Front End)</td>\n",
       "      <td>28</td>\n",
       "      <td>44</td>\n",
       "      <td>72</td>\n",
       "      <td>38.89</td>\n",
       "      <td>61.11</td>\n",
       "    </tr>\n",
       "    <tr>\n",
       "      <th>7</th>\n",
       "      <td>DevOps Engineer</td>\n",
       "      <td>0</td>\n",
       "      <td>3</td>\n",
       "      <td>3</td>\n",
       "      <td>0.00</td>\n",
       "      <td>100.00</td>\n",
       "    </tr>\n",
       "    <tr>\n",
       "      <th>8</th>\n",
       "      <td>Digital Product Manager</td>\n",
       "      <td>0</td>\n",
       "      <td>2</td>\n",
       "      <td>2</td>\n",
       "      <td>0.00</td>\n",
       "      <td>100.00</td>\n",
       "    </tr>\n",
       "    <tr>\n",
       "      <th>9</th>\n",
       "      <td>Machine Learning Engineer</td>\n",
       "      <td>0</td>\n",
       "      <td>2</td>\n",
       "      <td>2</td>\n",
       "      <td>0.00</td>\n",
       "      <td>100.00</td>\n",
       "    </tr>\n",
       "    <tr>\n",
       "      <th>10</th>\n",
       "      <td>Product Design (UX Researcher)</td>\n",
       "      <td>0</td>\n",
       "      <td>1</td>\n",
       "      <td>1</td>\n",
       "      <td>0.00</td>\n",
       "      <td>100.00</td>\n",
       "    </tr>\n",
       "    <tr>\n",
       "      <th>11</th>\n",
       "      <td>Scrum Master</td>\n",
       "      <td>0</td>\n",
       "      <td>3</td>\n",
       "      <td>3</td>\n",
       "      <td>0.00</td>\n",
       "      <td>100.00</td>\n",
       "    </tr>\n",
       "    <tr>\n",
       "      <th>12</th>\n",
       "      <td>Software Architect</td>\n",
       "      <td>0</td>\n",
       "      <td>1</td>\n",
       "      <td>1</td>\n",
       "      <td>0.00</td>\n",
       "      <td>100.00</td>\n",
       "    </tr>\n",
       "    <tr>\n",
       "      <th>13</th>\n",
       "      <td>Software Engineer (iOS)</td>\n",
       "      <td>0</td>\n",
       "      <td>3</td>\n",
       "      <td>3</td>\n",
       "      <td>0.00</td>\n",
       "      <td>100.00</td>\n",
       "    </tr>\n",
       "  </tbody>\n",
       "</table>\n",
       "</div>"
      ],
      "text/plain": [
       "                         Pekerjaan  Jumlah Resign  Jumlah Bertahan   \n",
       "0                     Data Analyst              8                8  \\\n",
       "1                    Data Engineer              3                7   \n",
       "2         Product Design (UI & UX)              9               15   \n",
       "3                  Product Manager              6               11   \n",
       "4      Software Engineer (Android)              7               17   \n",
       "5     Software Engineer (Back End)             28               81   \n",
       "6    Software Engineer (Front End)             28               44   \n",
       "7                  DevOps Engineer              0                3   \n",
       "8          Digital Product Manager              0                2   \n",
       "9        Machine Learning Engineer              0                2   \n",
       "10  Product Design (UX Researcher)              0                1   \n",
       "11                    Scrum Master              0                3   \n",
       "12              Software Architect              0                1   \n",
       "13         Software Engineer (iOS)              0                3   \n",
       "\n",
       "    Total Karyawan  Resign Rate  Stay Rate  \n",
       "0               16        50.00      50.00  \n",
       "1               10        30.00      70.00  \n",
       "2               24        37.50      62.50  \n",
       "3               17        35.29      64.71  \n",
       "4               24        29.17      70.83  \n",
       "5              109        25.69      74.31  \n",
       "6               72        38.89      61.11  \n",
       "7                3         0.00     100.00  \n",
       "8                2         0.00     100.00  \n",
       "9                2         0.00     100.00  \n",
       "10               1         0.00     100.00  \n",
       "11               3         0.00     100.00  \n",
       "12               1         0.00     100.00  \n",
       "13               3         0.00     100.00  "
      ]
     },
     "execution_count": 29,
     "metadata": {},
     "output_type": "execute_result"
    }
   ],
   "source": [
    "df_Resign_Stay['Total Karyawan'] = df_Resign_Stay.apply(lambda x: x['Jumlah Resign'] + x['Jumlah Bertahan'], axis=1)\n",
    "df_Resign_Stay['Resign Rate'] = df_Resign_Stay.apply(lambda x: float(\"{:.2f}\".format(x['Jumlah Resign']/x['Total Karyawan']*100)), axis=1)\n",
    "df_Resign_Stay['Stay Rate'] = df_Resign_Stay.apply(lambda x: float(\"{:.2f}\".format(x['Jumlah Bertahan']/x['Total Karyawan']*100)), axis=1)\n",
    "df_Resign_Stay"
   ]
  },
  {
   "cell_type": "markdown",
   "metadata": {},
   "source": [
    "- Plot percentage of resigning and remaining employees"
   ]
  },
  {
   "cell_type": "code",
   "execution_count": 24,
   "metadata": {},
   "outputs": [
    {
     "data": {
      "image/png": "[encoded data removed]",
      "text/plain": [
       "<Figure size 1600x800 with 1 Axes>"
      ]
     },
     "metadata": {},
     "output_type": "display_data"
    }
   ],
   "source": [
    "plt.figure(figsize=(16, 8))\n",
    "ax = sns.barplot(y='Pekerjaan', x='Resign Rate', data=df_Resign_Stay, orient='h', order=df_Resign_Stay.sort_values('Resign Rate', ascending = False).Pekerjaan)\n",
    "for i in ax.containers:\n",
    "    ax.bar_label(i, fmt='%.2f%%')\n",
    "plt.text(x = -1, y = -1, \n",
    "        s = \"Resign Rate Based on Job\",\n",
    "        fontsize = 28, weight = 'bold')\n",
    "plt.show()"
   ]
  },
  {
   "cell_type": "code",
   "execution_count": 31,
   "metadata": {},
   "outputs": [
    {
     "data": {
      "image/png": "[encoded data removed]",
      "text/plain": [
       "<Figure size 1600x800 with 1 Axes>"
      ]
     },
     "metadata": {},
     "output_type": "display_data"
    }
   ],
   "source": [
    "plt.figure(figsize=(16, 8))\n",
    "ax = sns.barplot(y='Pekerjaan', x='Stay Rate', data=df_Resign_Stay, orient='h', order=df_Resign_Stay.sort_values('Stay Rate', ascending = False).Pekerjaan)\n",
    "for i in ax.containers:\n",
    "    ax.bar_label(i, fmt='%.2f%%')\n",
    "plt.text(x = -1, y = -1, \n",
    "        s = \"Stay Rate Based on Job\",\n",
    "        fontsize = 28, weight = 'bold')\n",
    "plt.show()"
   ]
  },
  {
   "cell_type": "markdown",
   "metadata": {},
   "source": [
    "According to the provided plot, the data analyst role has the highest resignation rate at 50%, while roles such as DevOps Engineer, Digital Product Manager, Machine Learning Engineer, Product Design (UX Researcher), Scrum Master, Software Architect, and Software Engineer (iOS) have no resigned employees."
   ]
  },
  {
   "cell_type": "markdown",
   "metadata": {},
   "source": [
    "- Number of employees who resigned based on career level, employee performance, and reasons for resigning on the Highest resignation rate (Data Analyst)"
   ]
  },
  {
   "cell_type": "code",
   "execution_count": 32,
   "metadata": {},
   "outputs": [
    {
     "data": {
      "text/html": [
       "<div>\n",
       "<style scoped>\n",
       "    .dataframe tbody tr th:only-of-type {\n",
       "        vertical-align: middle;\n",
       "    }\n",
       "\n",
       "    .dataframe tbody tr th {\n",
       "        vertical-align: top;\n",
       "    }\n",
       "\n",
       "    .dataframe thead th {\n",
       "        text-align: right;\n",
       "    }\n",
       "</style>\n",
       "<table border=\"1\" class=\"dataframe\">\n",
       "  <thead>\n",
       "    <tr style=\"text-align: right;\">\n",
       "      <th></th>\n",
       "      <th>Username</th>\n",
       "      <th>EnterpriseID</th>\n",
       "      <th>StatusPernikahan</th>\n",
       "      <th>JenisKelamin</th>\n",
       "      <th>StatusKepegawaian</th>\n",
       "      <th>Pekerjaan</th>\n",
       "      <th>JenjangKarir</th>\n",
       "      <th>PerformancePegawai</th>\n",
       "      <th>AsalDaerah</th>\n",
       "      <th>HiringPlatform</th>\n",
       "      <th>SkorSurveyEngagement</th>\n",
       "      <th>SkorKepuasanPegawai</th>\n",
       "      <th>JumlahKeikutsertaanProjek</th>\n",
       "      <th>JumlahKeterlambatanSebulanTerakhir</th>\n",
       "      <th>JumlahKetidakhadiran</th>\n",
       "      <th>NomorHP</th>\n",
       "      <th>Email</th>\n",
       "      <th>TingkatPendidikan</th>\n",
       "      <th>AlasanResign</th>\n",
       "      <th>TanggalLahir</th>\n",
       "      <th>TanggalHiring</th>\n",
       "      <th>TanggalPenilaianKaryawan</th>\n",
       "      <th>TanggalResign</th>\n",
       "      <th>Umur_pd_Penilaian</th>\n",
       "      <th>Months_Hiring_Penilaian</th>\n",
       "      <th>Tahun_Hiring</th>\n",
       "      <th>Tahun_Resign</th>\n",
       "    </tr>\n",
       "  </thead>\n",
       "  <tbody>\n",
       "    <tr>\n",
       "      <th>1</th>\n",
       "      <td>jealousGelding2</td>\n",
       "      <td>106080</td>\n",
       "      <td>Belum_menikah</td>\n",
       "      <td>Pria</td>\n",
       "      <td>FullTime</td>\n",
       "      <td>Data Analyst</td>\n",
       "      <td>Freshgraduate_program</td>\n",
       "      <td>Sangat_kurang</td>\n",
       "      <td>Jakarta Utara</td>\n",
       "      <td>Website</td>\n",
       "      <td>4</td>\n",
       "      <td>4.0</td>\n",
       "      <td>4.0</td>\n",
       "      <td>0.0</td>\n",
       "      <td>3.0</td>\n",
       "      <td>+6281270745xxx</td>\n",
       "      <td>jealousGelding2239@yahoo.com</td>\n",
       "      <td>Sarjana</td>\n",
       "      <td>toxic_culture</td>\n",
       "      <td>1984-04-26</td>\n",
       "      <td>2014-01-06</td>\n",
       "      <td>2020-01-17</td>\n",
       "      <td>2018-06-16</td>\n",
       "      <td>36</td>\n",
       "      <td>71</td>\n",
       "      <td>2014</td>\n",
       "      <td>2018.0</td>\n",
       "    </tr>\n",
       "    <tr>\n",
       "      <th>6</th>\n",
       "      <td>madZebra1</td>\n",
       "      <td>100309</td>\n",
       "      <td>Menikah</td>\n",
       "      <td>Wanita</td>\n",
       "      <td>FullTime</td>\n",
       "      <td>Data Analyst</td>\n",
       "      <td>Freshgraduate_program</td>\n",
       "      <td>Biasa</td>\n",
       "      <td>Jakarta Utara</td>\n",
       "      <td>LinkedIn</td>\n",
       "      <td>2</td>\n",
       "      <td>3.0</td>\n",
       "      <td>4.0</td>\n",
       "      <td>0.0</td>\n",
       "      <td>19.0</td>\n",
       "      <td>+6285735701xxx</td>\n",
       "      <td>madZebra1244@icloud.com</td>\n",
       "      <td>Sarjana</td>\n",
       "      <td>masih_bekerja</td>\n",
       "      <td>1979-05-24</td>\n",
       "      <td>2014-11-10</td>\n",
       "      <td>2020-01-02</td>\n",
       "      <td>NaT</td>\n",
       "      <td>41</td>\n",
       "      <td>60</td>\n",
       "      <td>2014</td>\n",
       "      <td>NaN</td>\n",
       "    </tr>\n",
       "    <tr>\n",
       "      <th>18</th>\n",
       "      <td>hushedSeahorse7</td>\n",
       "      <td>111202</td>\n",
       "      <td>Bercerai</td>\n",
       "      <td>Wanita</td>\n",
       "      <td>FullTime</td>\n",
       "      <td>Data Analyst</td>\n",
       "      <td>Freshgraduate_program</td>\n",
       "      <td>Sangat_bagus</td>\n",
       "      <td>Jakarta Pusat</td>\n",
       "      <td>Diversity_Job_Fair</td>\n",
       "      <td>3</td>\n",
       "      <td>4.0</td>\n",
       "      <td>0.0</td>\n",
       "      <td>0.0</td>\n",
       "      <td>17.0</td>\n",
       "      <td>+6281212698xxx</td>\n",
       "      <td>hushedSeahorse7404@icloud.com</td>\n",
       "      <td>Sarjana</td>\n",
       "      <td>internal_conflict</td>\n",
       "      <td>1968-05-30</td>\n",
       "      <td>2012-04-02</td>\n",
       "      <td>2017-02-05</td>\n",
       "      <td>2017-09-12</td>\n",
       "      <td>49</td>\n",
       "      <td>57</td>\n",
       "      <td>2012</td>\n",
       "      <td>2017.0</td>\n",
       "    </tr>\n",
       "    <tr>\n",
       "      <th>54</th>\n",
       "      <td>adoringCardinal9</td>\n",
       "      <td>101188</td>\n",
       "      <td>unknown</td>\n",
       "      <td>Wanita</td>\n",
       "      <td>FullTime</td>\n",
       "      <td>Data Analyst</td>\n",
       "      <td>Mid_level</td>\n",
       "      <td>Sangat_bagus</td>\n",
       "      <td>Jakarta Barat</td>\n",
       "      <td>LinkedIn</td>\n",
       "      <td>4</td>\n",
       "      <td>5.0</td>\n",
       "      <td>0.0</td>\n",
       "      <td>0.0</td>\n",
       "      <td>10.0</td>\n",
       "      <td>+6289841872xxx</td>\n",
       "      <td>adoringCardinal9745@yahoo.com</td>\n",
       "      <td>Sarjana</td>\n",
       "      <td>masih_bekerja</td>\n",
       "      <td>1987-05-21</td>\n",
       "      <td>2015-03-30</td>\n",
       "      <td>2020-02-07</td>\n",
       "      <td>NaT</td>\n",
       "      <td>33</td>\n",
       "      <td>57</td>\n",
       "      <td>2015</td>\n",
       "      <td>NaN</td>\n",
       "    </tr>\n",
       "    <tr>\n",
       "      <th>78</th>\n",
       "      <td>somberCod8</td>\n",
       "      <td>110312</td>\n",
       "      <td>Bercerai</td>\n",
       "      <td>Pria</td>\n",
       "      <td>FullTime</td>\n",
       "      <td>Data Analyst</td>\n",
       "      <td>Mid_level</td>\n",
       "      <td>Sangat_bagus</td>\n",
       "      <td>Jakarta Barat</td>\n",
       "      <td>Employee_Referral</td>\n",
       "      <td>4</td>\n",
       "      <td>4.0</td>\n",
       "      <td>0.0</td>\n",
       "      <td>0.0</td>\n",
       "      <td>19.0</td>\n",
       "      <td>+6289954216xxx</td>\n",
       "      <td>somberCod8452@icloud.com</td>\n",
       "      <td>Sarjana</td>\n",
       "      <td>masih_bekerja</td>\n",
       "      <td>1983-02-18</td>\n",
       "      <td>2013-09-30</td>\n",
       "      <td>2020-02-25</td>\n",
       "      <td>NaT</td>\n",
       "      <td>37</td>\n",
       "      <td>75</td>\n",
       "      <td>2013</td>\n",
       "      <td>NaN</td>\n",
       "    </tr>\n",
       "    <tr>\n",
       "      <th>86</th>\n",
       "      <td>sincereGatorade8</td>\n",
       "      <td>111089</td>\n",
       "      <td>Menikah</td>\n",
       "      <td>Wanita</td>\n",
       "      <td>Outsource</td>\n",
       "      <td>Data Analyst</td>\n",
       "      <td>Freshgraduate_program</td>\n",
       "      <td>Sangat_bagus</td>\n",
       "      <td>Jakarta Timur</td>\n",
       "      <td>Indeed</td>\n",
       "      <td>3</td>\n",
       "      <td>5.0</td>\n",
       "      <td>7.0</td>\n",
       "      <td>0.0</td>\n",
       "      <td>2.0</td>\n",
       "      <td>+6281225029xxx</td>\n",
       "      <td>sincereGatorade8842@icloud.com</td>\n",
       "      <td>Sarjana</td>\n",
       "      <td>toxic_culture</td>\n",
       "      <td>1987-06-14</td>\n",
       "      <td>2016-10-02</td>\n",
       "      <td>2020-01-08</td>\n",
       "      <td>2017-03-15</td>\n",
       "      <td>33</td>\n",
       "      <td>38</td>\n",
       "      <td>2016</td>\n",
       "      <td>2017.0</td>\n",
       "    </tr>\n",
       "    <tr>\n",
       "      <th>102</th>\n",
       "      <td>brainyFish3</td>\n",
       "      <td>111083</td>\n",
       "      <td>Menikah</td>\n",
       "      <td>Pria</td>\n",
       "      <td>Outsource</td>\n",
       "      <td>Data Analyst</td>\n",
       "      <td>Freshgraduate_program</td>\n",
       "      <td>Sangat_bagus</td>\n",
       "      <td>Jakarta Barat</td>\n",
       "      <td>Google_Search</td>\n",
       "      <td>3</td>\n",
       "      <td>3.0</td>\n",
       "      <td>0.0</td>\n",
       "      <td>0.0</td>\n",
       "      <td>20.0</td>\n",
       "      <td>+6285960968xxx</td>\n",
       "      <td>brainyFish3571@hotmail.com</td>\n",
       "      <td>Sarjana</td>\n",
       "      <td>toxic_culture</td>\n",
       "      <td>1984-05-09</td>\n",
       "      <td>2012-04-02</td>\n",
       "      <td>2014-02-20</td>\n",
       "      <td>2018-06-08</td>\n",
       "      <td>30</td>\n",
       "      <td>22</td>\n",
       "      <td>2012</td>\n",
       "      <td>2018.0</td>\n",
       "    </tr>\n",
       "    <tr>\n",
       "      <th>105</th>\n",
       "      <td>scornfulBoa6</td>\n",
       "      <td>111235</td>\n",
       "      <td>Belum_menikah</td>\n",
       "      <td>Wanita</td>\n",
       "      <td>FullTime</td>\n",
       "      <td>Data Analyst</td>\n",
       "      <td>Freshgraduate_program</td>\n",
       "      <td>Bagus</td>\n",
       "      <td>Jakarta Timur</td>\n",
       "      <td>Indeed</td>\n",
       "      <td>3</td>\n",
       "      <td>3.0</td>\n",
       "      <td>0.0</td>\n",
       "      <td>0.0</td>\n",
       "      <td>1.0</td>\n",
       "      <td>+6281335006xxx</td>\n",
       "      <td>scornfulBoa6602@yahoo.com</td>\n",
       "      <td>Sarjana</td>\n",
       "      <td>unknown</td>\n",
       "      <td>1970-04-24</td>\n",
       "      <td>2013-05-13</td>\n",
       "      <td>2020-01-14</td>\n",
       "      <td>NaT</td>\n",
       "      <td>50</td>\n",
       "      <td>78</td>\n",
       "      <td>2013</td>\n",
       "      <td>NaN</td>\n",
       "    </tr>\n",
       "    <tr>\n",
       "      <th>106</th>\n",
       "      <td>troubledThrushe9</td>\n",
       "      <td>101192</td>\n",
       "      <td>unknown</td>\n",
       "      <td>Wanita</td>\n",
       "      <td>FullTime</td>\n",
       "      <td>Data Analyst</td>\n",
       "      <td>Freshgraduate_program</td>\n",
       "      <td>Bagus</td>\n",
       "      <td>Jakarta Barat</td>\n",
       "      <td>CareerBuilder</td>\n",
       "      <td>4</td>\n",
       "      <td>3.0</td>\n",
       "      <td>0.0</td>\n",
       "      <td>0.0</td>\n",
       "      <td>20.0</td>\n",
       "      <td>+6281801928xxx</td>\n",
       "      <td>troubledThrushe9146@proton.com</td>\n",
       "      <td>Sarjana</td>\n",
       "      <td>toxic_culture</td>\n",
       "      <td>1987-01-07</td>\n",
       "      <td>2013-01-07</td>\n",
       "      <td>2020-01-30</td>\n",
       "      <td>2014-08-19</td>\n",
       "      <td>33</td>\n",
       "      <td>83</td>\n",
       "      <td>2013</td>\n",
       "      <td>2014.0</td>\n",
       "    </tr>\n",
       "    <tr>\n",
       "      <th>108</th>\n",
       "      <td>jealousIguana3</td>\n",
       "      <td>111209</td>\n",
       "      <td>Belum_menikah</td>\n",
       "      <td>Wanita</td>\n",
       "      <td>FullTime</td>\n",
       "      <td>Data Analyst</td>\n",
       "      <td>Freshgraduate_program</td>\n",
       "      <td>Biasa</td>\n",
       "      <td>Jakarta Timur</td>\n",
       "      <td>CareerBuilder</td>\n",
       "      <td>4</td>\n",
       "      <td>4.0</td>\n",
       "      <td>0.0</td>\n",
       "      <td>0.0</td>\n",
       "      <td>10.0</td>\n",
       "      <td>+6283373813xxx</td>\n",
       "      <td>jealousIguana3026@gmail.com</td>\n",
       "      <td>Sarjana</td>\n",
       "      <td>toxic_culture</td>\n",
       "      <td>1976-09-22</td>\n",
       "      <td>2015-03-30</td>\n",
       "      <td>2020-01-21</td>\n",
       "      <td>2014-08-19</td>\n",
       "      <td>44</td>\n",
       "      <td>56</td>\n",
       "      <td>2015</td>\n",
       "      <td>2014.0</td>\n",
       "    </tr>\n",
       "    <tr>\n",
       "      <th>229</th>\n",
       "      <td>kindEland7</td>\n",
       "      <td>105293</td>\n",
       "      <td>Belum_menikah</td>\n",
       "      <td>Wanita</td>\n",
       "      <td>FullTime</td>\n",
       "      <td>Data Analyst</td>\n",
       "      <td>Mid_level</td>\n",
       "      <td>Sangat_bagus</td>\n",
       "      <td>Jakarta Barat</td>\n",
       "      <td>Indeed</td>\n",
       "      <td>4</td>\n",
       "      <td>5.0</td>\n",
       "      <td>0.0</td>\n",
       "      <td>0.0</td>\n",
       "      <td>15.0</td>\n",
       "      <td>+6289783478xxx</td>\n",
       "      <td>kindEland7431@hotmail.com</td>\n",
       "      <td>Sarjana</td>\n",
       "      <td>masih_bekerja</td>\n",
       "      <td>1988-09-27</td>\n",
       "      <td>2008-01-07</td>\n",
       "      <td>2020-01-03</td>\n",
       "      <td>NaT</td>\n",
       "      <td>32</td>\n",
       "      <td>141</td>\n",
       "      <td>2008</td>\n",
       "      <td>NaN</td>\n",
       "    </tr>\n",
       "    <tr>\n",
       "      <th>233</th>\n",
       "      <td>jumpyBuck8</td>\n",
       "      <td>100317</td>\n",
       "      <td>Belum_menikah</td>\n",
       "      <td>Wanita</td>\n",
       "      <td>FullTime</td>\n",
       "      <td>Data Analyst</td>\n",
       "      <td>Freshgraduate_program</td>\n",
       "      <td>Sangat_bagus</td>\n",
       "      <td>Jakarta Utara</td>\n",
       "      <td>Diversity_Job_Fair</td>\n",
       "      <td>4</td>\n",
       "      <td>3.0</td>\n",
       "      <td>0.0</td>\n",
       "      <td>0.0</td>\n",
       "      <td>4.0</td>\n",
       "      <td>+6287731679xxx</td>\n",
       "      <td>jumpyBuck8498@outlook.com</td>\n",
       "      <td>Magister</td>\n",
       "      <td>toxic_culture</td>\n",
       "      <td>1970-02-11</td>\n",
       "      <td>2009-07-06</td>\n",
       "      <td>2020-01-25</td>\n",
       "      <td>2015-06-05</td>\n",
       "      <td>50</td>\n",
       "      <td>124</td>\n",
       "      <td>2009</td>\n",
       "      <td>2015.0</td>\n",
       "    </tr>\n",
       "    <tr>\n",
       "      <th>236</th>\n",
       "      <td>grumpyFish5</td>\n",
       "      <td>100338</td>\n",
       "      <td>Belum_menikah</td>\n",
       "      <td>Pria</td>\n",
       "      <td>FullTime</td>\n",
       "      <td>Data Analyst</td>\n",
       "      <td>Mid_level</td>\n",
       "      <td>Kurang</td>\n",
       "      <td>Jakarta Selatan</td>\n",
       "      <td>Diversity_Job_Fair</td>\n",
       "      <td>4</td>\n",
       "      <td>4.0</td>\n",
       "      <td>5.0</td>\n",
       "      <td>0.0</td>\n",
       "      <td>9.0</td>\n",
       "      <td>+6282251549xxx</td>\n",
       "      <td>grumpyFish5094@icloud.com</td>\n",
       "      <td>Magister</td>\n",
       "      <td>masih_bekerja</td>\n",
       "      <td>1988-07-04</td>\n",
       "      <td>2014-11-10</td>\n",
       "      <td>2020-02-25</td>\n",
       "      <td>NaT</td>\n",
       "      <td>32</td>\n",
       "      <td>62</td>\n",
       "      <td>2014</td>\n",
       "      <td>NaN</td>\n",
       "    </tr>\n",
       "    <tr>\n",
       "      <th>239</th>\n",
       "      <td>finickySwift5</td>\n",
       "      <td>105296</td>\n",
       "      <td>Belum_menikah</td>\n",
       "      <td>Wanita</td>\n",
       "      <td>Outsource</td>\n",
       "      <td>Data Analyst</td>\n",
       "      <td>Freshgraduate_program</td>\n",
       "      <td>Biasa</td>\n",
       "      <td>Jakarta Utara</td>\n",
       "      <td>Google_Search</td>\n",
       "      <td>4</td>\n",
       "      <td>4.0</td>\n",
       "      <td>0.0</td>\n",
       "      <td>0.0</td>\n",
       "      <td>2.0</td>\n",
       "      <td>+6281213075xxx</td>\n",
       "      <td>finickySwift5808@icloud.com</td>\n",
       "      <td>Magister</td>\n",
       "      <td>internal_conflict</td>\n",
       "      <td>1989-09-08</td>\n",
       "      <td>2011-07-11</td>\n",
       "      <td>2017-02-01</td>\n",
       "      <td>2017-06-25</td>\n",
       "      <td>28</td>\n",
       "      <td>65</td>\n",
       "      <td>2011</td>\n",
       "      <td>2017.0</td>\n",
       "    </tr>\n",
       "    <tr>\n",
       "      <th>277</th>\n",
       "      <td>exactingZebra6</td>\n",
       "      <td>106073</td>\n",
       "      <td>Belum_menikah</td>\n",
       "      <td>Pria</td>\n",
       "      <td>FullTime</td>\n",
       "      <td>Data Analyst</td>\n",
       "      <td>Mid_level</td>\n",
       "      <td>Sangat_bagus</td>\n",
       "      <td>Jakarta Utara</td>\n",
       "      <td>LinkedIn</td>\n",
       "      <td>4</td>\n",
       "      <td>5.0</td>\n",
       "      <td>0.0</td>\n",
       "      <td>0.0</td>\n",
       "      <td>13.0</td>\n",
       "      <td>+6283346575xxx</td>\n",
       "      <td>exactingZebra6270@icloud.com</td>\n",
       "      <td>Magister</td>\n",
       "      <td>unknown</td>\n",
       "      <td>1986-12-09</td>\n",
       "      <td>2012-07-09</td>\n",
       "      <td>2020-02-04</td>\n",
       "      <td>NaT</td>\n",
       "      <td>34</td>\n",
       "      <td>89</td>\n",
       "      <td>2012</td>\n",
       "      <td>NaN</td>\n",
       "    </tr>\n",
       "    <tr>\n",
       "      <th>286</th>\n",
       "      <td>puzzledFish5</td>\n",
       "      <td>106214</td>\n",
       "      <td>Menikah</td>\n",
       "      <td>Pria</td>\n",
       "      <td>Internship</td>\n",
       "      <td>Data Analyst</td>\n",
       "      <td>Mid_level</td>\n",
       "      <td>Bagus</td>\n",
       "      <td>Jakarta Barat</td>\n",
       "      <td>Indeed</td>\n",
       "      <td>4</td>\n",
       "      <td>3.0</td>\n",
       "      <td>0.0</td>\n",
       "      <td>0.0</td>\n",
       "      <td>2.0</td>\n",
       "      <td>+6287722818xxx</td>\n",
       "      <td>puzzledFish5776@hotmail.com</td>\n",
       "      <td>Sarjana</td>\n",
       "      <td>unknown</td>\n",
       "      <td>1981-08-10</td>\n",
       "      <td>2012-08-16</td>\n",
       "      <td>2020-01-14</td>\n",
       "      <td>NaT</td>\n",
       "      <td>39</td>\n",
       "      <td>87</td>\n",
       "      <td>2012</td>\n",
       "      <td>NaN</td>\n",
       "    </tr>\n",
       "  </tbody>\n",
       "</table>\n",
       "</div>"
      ],
      "text/plain": [
       "             Username  EnterpriseID StatusPernikahan JenisKelamin   \n",
       "1     jealousGelding2        106080    Belum_menikah         Pria  \\\n",
       "6           madZebra1        100309          Menikah       Wanita   \n",
       "18    hushedSeahorse7        111202         Bercerai       Wanita   \n",
       "54   adoringCardinal9        101188          unknown       Wanita   \n",
       "78         somberCod8        110312         Bercerai         Pria   \n",
       "86   sincereGatorade8        111089          Menikah       Wanita   \n",
       "102       brainyFish3        111083          Menikah         Pria   \n",
       "105      scornfulBoa6        111235    Belum_menikah       Wanita   \n",
       "106  troubledThrushe9        101192          unknown       Wanita   \n",
       "108    jealousIguana3        111209    Belum_menikah       Wanita   \n",
       "229        kindEland7        105293    Belum_menikah       Wanita   \n",
       "233        jumpyBuck8        100317    Belum_menikah       Wanita   \n",
       "236       grumpyFish5        100338    Belum_menikah         Pria   \n",
       "239     finickySwift5        105296    Belum_menikah       Wanita   \n",
       "277    exactingZebra6        106073    Belum_menikah         Pria   \n",
       "286      puzzledFish5        106214          Menikah         Pria   \n",
       "\n",
       "    StatusKepegawaian     Pekerjaan           JenjangKarir PerformancePegawai   \n",
       "1            FullTime  Data Analyst  Freshgraduate_program      Sangat_kurang  \\\n",
       "6            FullTime  Data Analyst  Freshgraduate_program              Biasa   \n",
       "18           FullTime  Data Analyst  Freshgraduate_program       Sangat_bagus   \n",
       "54           FullTime  Data Analyst              Mid_level       Sangat_bagus   \n",
       "78           FullTime  Data Analyst              Mid_level       Sangat_bagus   \n",
       "86          Outsource  Data Analyst  Freshgraduate_program       Sangat_bagus   \n",
       "102         Outsource  Data Analyst  Freshgraduate_program       Sangat_bagus   \n",
       "105          FullTime  Data Analyst  Freshgraduate_program              Bagus   \n",
       "106          FullTime  Data Analyst  Freshgraduate_program              Bagus   \n",
       "108          FullTime  Data Analyst  Freshgraduate_program              Biasa   \n",
       "229          FullTime  Data Analyst              Mid_level       Sangat_bagus   \n",
       "233          FullTime  Data Analyst  Freshgraduate_program       Sangat_bagus   \n",
       "236          FullTime  Data Analyst              Mid_level             Kurang   \n",
       "239         Outsource  Data Analyst  Freshgraduate_program              Biasa   \n",
       "277          FullTime  Data Analyst              Mid_level       Sangat_bagus   \n",
       "286        Internship  Data Analyst              Mid_level              Bagus   \n",
       "\n",
       "          AsalDaerah      HiringPlatform  SkorSurveyEngagement   \n",
       "1      Jakarta Utara             Website                     4  \\\n",
       "6      Jakarta Utara            LinkedIn                     2   \n",
       "18     Jakarta Pusat  Diversity_Job_Fair                     3   \n",
       "54     Jakarta Barat            LinkedIn                     4   \n",
       "78     Jakarta Barat   Employee_Referral                     4   \n",
       "86     Jakarta Timur              Indeed                     3   \n",
       "102    Jakarta Barat       Google_Search                     3   \n",
       "105    Jakarta Timur              Indeed                     3   \n",
       "106    Jakarta Barat       CareerBuilder                     4   \n",
       "108    Jakarta Timur       CareerBuilder                     4   \n",
       "229    Jakarta Barat              Indeed                     4   \n",
       "233    Jakarta Utara  Diversity_Job_Fair                     4   \n",
       "236  Jakarta Selatan  Diversity_Job_Fair                     4   \n",
       "239    Jakarta Utara       Google_Search                     4   \n",
       "277    Jakarta Utara            LinkedIn                     4   \n",
       "286    Jakarta Barat              Indeed                     4   \n",
       "\n",
       "     SkorKepuasanPegawai  JumlahKeikutsertaanProjek   \n",
       "1                    4.0                        4.0  \\\n",
       "6                    3.0                        4.0   \n",
       "18                   4.0                        0.0   \n",
       "54                   5.0                        0.0   \n",
       "78                   4.0                        0.0   \n",
       "86                   5.0                        7.0   \n",
       "102                  3.0                        0.0   \n",
       "105                  3.0                        0.0   \n",
       "106                  3.0                        0.0   \n",
       "108                  4.0                        0.0   \n",
       "229                  5.0                        0.0   \n",
       "233                  3.0                        0.0   \n",
       "236                  4.0                        5.0   \n",
       "239                  4.0                        0.0   \n",
       "277                  5.0                        0.0   \n",
       "286                  3.0                        0.0   \n",
       "\n",
       "     JumlahKeterlambatanSebulanTerakhir  JumlahKetidakhadiran         NomorHP   \n",
       "1                                   0.0                   3.0  +6281270745xxx  \\\n",
       "6                                   0.0                  19.0  +6285735701xxx   \n",
       "18                                  0.0                  17.0  +6281212698xxx   \n",
       "54                                  0.0                  10.0  +6289841872xxx   \n",
       "78                                  0.0                  19.0  +6289954216xxx   \n",
       "86                                  0.0                   2.0  +6281225029xxx   \n",
       "102                                 0.0                  20.0  +6285960968xxx   \n",
       "105                                 0.0                   1.0  +6281335006xxx   \n",
       "106                                 0.0                  20.0  +6281801928xxx   \n",
       "108                                 0.0                  10.0  +6283373813xxx   \n",
       "229                                 0.0                  15.0  +6289783478xxx   \n",
       "233                                 0.0                   4.0  +6287731679xxx   \n",
       "236                                 0.0                   9.0  +6282251549xxx   \n",
       "239                                 0.0                   2.0  +6281213075xxx   \n",
       "277                                 0.0                  13.0  +6283346575xxx   \n",
       "286                                 0.0                   2.0  +6287722818xxx   \n",
       "\n",
       "                              Email TingkatPendidikan       AlasanResign   \n",
       "1      jealousGelding2239@yahoo.com           Sarjana      toxic_culture  \\\n",
       "6           madZebra1244@icloud.com           Sarjana      masih_bekerja   \n",
       "18    hushedSeahorse7404@icloud.com           Sarjana  internal_conflict   \n",
       "54    adoringCardinal9745@yahoo.com           Sarjana      masih_bekerja   \n",
       "78         somberCod8452@icloud.com           Sarjana      masih_bekerja   \n",
       "86   sincereGatorade8842@icloud.com           Sarjana      toxic_culture   \n",
       "102      brainyFish3571@hotmail.com           Sarjana      toxic_culture   \n",
       "105       scornfulBoa6602@yahoo.com           Sarjana            unknown   \n",
       "106  troubledThrushe9146@proton.com           Sarjana      toxic_culture   \n",
       "108     jealousIguana3026@gmail.com           Sarjana      toxic_culture   \n",
       "229       kindEland7431@hotmail.com           Sarjana      masih_bekerja   \n",
       "233       jumpyBuck8498@outlook.com          Magister      toxic_culture   \n",
       "236       grumpyFish5094@icloud.com          Magister      masih_bekerja   \n",
       "239     finickySwift5808@icloud.com          Magister  internal_conflict   \n",
       "277    exactingZebra6270@icloud.com          Magister            unknown   \n",
       "286     puzzledFish5776@hotmail.com           Sarjana            unknown   \n",
       "\n",
       "    TanggalLahir TanggalHiring TanggalPenilaianKaryawan TanggalResign   \n",
       "1     1984-04-26    2014-01-06               2020-01-17    2018-06-16  \\\n",
       "6     1979-05-24    2014-11-10               2020-01-02           NaT   \n",
       "18    1968-05-30    2012-04-02               2017-02-05    2017-09-12   \n",
       "54    1987-05-21    2015-03-30               2020-02-07           NaT   \n",
       "78    1983-02-18    2013-09-30               2020-02-25           NaT   \n",
       "86    1987-06-14    2016-10-02               2020-01-08    2017-03-15   \n",
       "102   1984-05-09    2012-04-02               2014-02-20    2018-06-08   \n",
       "105   1970-04-24    2013-05-13               2020-01-14           NaT   \n",
       "106   1987-01-07    2013-01-07               2020-01-30    2014-08-19   \n",
       "108   1976-09-22    2015-03-30               2020-01-21    2014-08-19   \n",
       "229   1988-09-27    2008-01-07               2020-01-03           NaT   \n",
       "233   1970-02-11    2009-07-06               2020-01-25    2015-06-05   \n",
       "236   1988-07-04    2014-11-10               2020-02-25           NaT   \n",
       "239   1989-09-08    2011-07-11               2017-02-01    2017-06-25   \n",
       "277   1986-12-09    2012-07-09               2020-02-04           NaT   \n",
       "286   1981-08-10    2012-08-16               2020-01-14           NaT   \n",
       "\n",
       "     Umur_pd_Penilaian  Months_Hiring_Penilaian  Tahun_Hiring  Tahun_Resign  \n",
       "1                   36                       71          2014        2018.0  \n",
       "6                   41                       60          2014           NaN  \n",
       "18                  49                       57          2012        2017.0  \n",
       "54                  33                       57          2015           NaN  \n",
       "78                  37                       75          2013           NaN  \n",
       "86                  33                       38          2016        2017.0  \n",
       "102                 30                       22          2012        2018.0  \n",
       "105                 50                       78          2013           NaN  \n",
       "106                 33                       83          2013        2014.0  \n",
       "108                 44                       56          2015        2014.0  \n",
       "229                 32                      141          2008           NaN  \n",
       "233                 50                      124          2009        2015.0  \n",
       "236                 32                       62          2014           NaN  \n",
       "239                 28                       65          2011        2017.0  \n",
       "277                 34                       89          2012           NaN  \n",
       "286                 39                       87          2012           NaN  "
      ]
     },
     "execution_count": 32,
     "metadata": {},
     "output_type": "execute_result"
    }
   ],
   "source": [
    "df_dataAnalyst = df[df['Pekerjaan'] == \"Data Analyst\"]\n",
    "df_dataAnalyst"
   ]
  },
  {
   "cell_type": "code",
   "execution_count": 33,
   "metadata": {},
   "outputs": [
    {
     "data": {
      "text/html": [
       "<div>\n",
       "<style scoped>\n",
       "    .dataframe tbody tr th:only-of-type {\n",
       "        vertical-align: middle;\n",
       "    }\n",
       "\n",
       "    .dataframe tbody tr th {\n",
       "        vertical-align: top;\n",
       "    }\n",
       "\n",
       "    .dataframe thead th {\n",
       "        text-align: right;\n",
       "    }\n",
       "</style>\n",
       "<table border=\"1\" class=\"dataframe\">\n",
       "  <thead>\n",
       "    <tr style=\"text-align: right;\">\n",
       "      <th></th>\n",
       "      <th>JenjangKarir</th>\n",
       "      <th>PerformancePegawai</th>\n",
       "      <th>AlasanResign</th>\n",
       "      <th>Total Resign</th>\n",
       "    </tr>\n",
       "  </thead>\n",
       "  <tbody>\n",
       "    <tr>\n",
       "      <th>0</th>\n",
       "      <td>Freshgraduate_program</td>\n",
       "      <td>Bagus</td>\n",
       "      <td>toxic_culture</td>\n",
       "      <td>1</td>\n",
       "    </tr>\n",
       "    <tr>\n",
       "      <th>1</th>\n",
       "      <td>Freshgraduate_program</td>\n",
       "      <td>Biasa</td>\n",
       "      <td>internal_conflict</td>\n",
       "      <td>1</td>\n",
       "    </tr>\n",
       "    <tr>\n",
       "      <th>2</th>\n",
       "      <td>Freshgraduate_program</td>\n",
       "      <td>Biasa</td>\n",
       "      <td>toxic_culture</td>\n",
       "      <td>1</td>\n",
       "    </tr>\n",
       "    <tr>\n",
       "      <th>3</th>\n",
       "      <td>Freshgraduate_program</td>\n",
       "      <td>Sangat_bagus</td>\n",
       "      <td>internal_conflict</td>\n",
       "      <td>1</td>\n",
       "    </tr>\n",
       "    <tr>\n",
       "      <th>4</th>\n",
       "      <td>Freshgraduate_program</td>\n",
       "      <td>Sangat_bagus</td>\n",
       "      <td>toxic_culture</td>\n",
       "      <td>3</td>\n",
       "    </tr>\n",
       "    <tr>\n",
       "      <th>5</th>\n",
       "      <td>Freshgraduate_program</td>\n",
       "      <td>Sangat_kurang</td>\n",
       "      <td>toxic_culture</td>\n",
       "      <td>1</td>\n",
       "    </tr>\n",
       "  </tbody>\n",
       "</table>\n",
       "</div>"
      ],
      "text/plain": [
       "            JenjangKarir PerformancePegawai       AlasanResign  Total Resign\n",
       "0  Freshgraduate_program              Bagus      toxic_culture             1\n",
       "1  Freshgraduate_program              Biasa  internal_conflict             1\n",
       "2  Freshgraduate_program              Biasa      toxic_culture             1\n",
       "3  Freshgraduate_program       Sangat_bagus  internal_conflict             1\n",
       "4  Freshgraduate_program       Sangat_bagus      toxic_culture             3\n",
       "5  Freshgraduate_program      Sangat_kurang      toxic_culture             1"
      ]
     },
     "execution_count": 33,
     "metadata": {},
     "output_type": "execute_result"
    }
   ],
   "source": [
    "df_dataAnalyst_resign = df_dataAnalyst[df_dataAnalyst['Tahun_Resign'].notnull()].groupby(['JenjangKarir', 'PerformancePegawai', 'AlasanResign']).agg({\n",
    "    'JenjangKarir' : ['count']\n",
    "}).reset_index()\n",
    "df_dataAnalyst_resign.columns = ['JenjangKarir', 'PerformancePegawai', 'AlasanResign', 'Total Resign']\n",
    "df_dataAnalyst_resign"
   ]
  },
  {
   "cell_type": "markdown",
   "metadata": {},
   "source": [
    "- Plot of df_dataAnalyst_resign"
   ]
  },
  {
   "cell_type": "code",
   "execution_count": 46,
   "metadata": {},
   "outputs": [
    {
     "data": {
      "application/vnd.plotly.v1+json": {
       "config": {
        "plotlyServerURL": "https://plot.ly"
       },
       "data": [
        {
         "branchvalues": "total",
         "domain": {
          "x": [
           0,
           1
          ],
          "y": [
           0,
           1
          ]
         },
         "hovertemplate": "labels=%{label}<br>Total Resign=%{value}<br>parent=%{parent}<br>id=%{id}<extra></extra>",
         "ids": [
          "Freshgraduate_program/Biasa/internal_conflict",
          "Freshgraduate_program/Sangat_bagus/internal_conflict",
          "Freshgraduate_program/Bagus/toxic_culture",
          "Freshgraduate_program/Biasa/toxic_culture",
          "Freshgraduate_program/Sangat_bagus/toxic_culture",
          "Freshgraduate_program/Sangat_kurang/toxic_culture",
          "Freshgraduate_program/Bagus",
          "Freshgraduate_program/Biasa",
          "Freshgraduate_program/Sangat_bagus",
          "Freshgraduate_program/Sangat_kurang",
          "Freshgraduate_program"
         ],
         "labels": [
          "internal_conflict",
          "internal_conflict",
          "toxic_culture",
          "toxic_culture",
          "toxic_culture",
          "toxic_culture",
          "Bagus",
          "Biasa",
          "Sangat_bagus",
          "Sangat_kurang",
          "Freshgraduate_program"
         ],
         "name": "",
         "parents": [
          "Freshgraduate_program/Biasa",
          "Freshgraduate_program/Sangat_bagus",
          "Freshgraduate_program/Bagus",
          "Freshgraduate_program/Biasa",
          "Freshgraduate_program/Sangat_bagus",
          "Freshgraduate_program/Sangat_kurang",
          "Freshgraduate_program",
          "Freshgraduate_program",
          "Freshgraduate_program",
          "Freshgraduate_program",
          ""
         ],
         "type": "sunburst",
         "values": [
          1,
          1,
          1,
          1,
          3,
          1,
          1,
          2,
          4,
          1,
          8
         ]
        }
       ],
       "layout": {
        "legend": {
         "tracegroupgap": 0
        },
        "margin": {
         "b": 10,
         "l": 0,
         "r": 0,
         "t": 10
        },
        "template": {
         "data": {
          "bar": [
           {
            "error_x": {
             "color": "#2a3f5f"
            },
            "error_y": {
             "color": "#2a3f5f"
            },
            "marker": {
             "line": {
              "color": "#E5ECF6",
              "width": 0.5
             },
             "pattern": {
              "fillmode": "overlay",
              "size": 10,
              "solidity": 0.2
             }
            },
            "type": "bar"
           }
          ],
          "barpolar": [
           {
            "marker": {
             "line": {
              "color": "#E5ECF6",
              "width": 0.5
             },
             "pattern": {
              "fillmode": "overlay",
              "size": 10,
              "solidity": 0.2
             }
            },
            "type": "barpolar"
           }
          ],
          "carpet": [
           {
            "aaxis": {
             "endlinecolor": "#2a3f5f",
             "gridcolor": "white",
             "linecolor": "white",
             "minorgridcolor": "white",
             "startlinecolor": "#2a3f5f"
            },
            "baxis": {
             "endlinecolor": "#2a3f5f",
             "gridcolor": "white",
             "linecolor": "white",
             "minorgridcolor": "white",
             "startlinecolor": "#2a3f5f"
            },
            "type": "carpet"
           }
          ],
          "choropleth": [
           {
            "colorbar": {
             "outlinewidth": 0,
             "ticks": ""
            },
            "type": "choropleth"
           }
          ],
          "contour": [
           {
            "colorbar": {
             "outlinewidth": 0,
             "ticks": ""
            },
            "colorscale": [
             [
              0,
              "#0d0887"
             ],
             [
              0.1111111111111111,
              "#46039f"
             ],
             [
              0.2222222222222222,
              "#7201a8"
             ],
             [
              0.3333333333333333,
              "#9c179e"
             ],
             [
              0.4444444444444444,
              "#bd3786"
             ],
             [
              0.5555555555555556,
              "#d8576b"
             ],
             [
              0.6666666666666666,
              "#ed7953"
             ],
             [
              0.7777777777777778,
              "#fb9f3a"
             ],
             [
              0.8888888888888888,
              "#fdca26"
             ],
             [
              1,
              "#f0f921"
             ]
            ],
            "type": "contour"
           }
          ],
          "contourcarpet": [
           {
            "colorbar": {
             "outlinewidth": 0,
             "ticks": ""
            },
            "type": "contourcarpet"
           }
          ],
          "heatmap": [
           {
            "colorbar": {
             "outlinewidth": 0,
             "ticks": ""
            },
            "colorscale": [
             [
              0,
              "#0d0887"
             ],
             [
              0.1111111111111111,
              "#46039f"
             ],
             [
              0.2222222222222222,
              "#7201a8"
             ],
             [
              0.3333333333333333,
              "#9c179e"
             ],
             [
              0.4444444444444444,
              "#bd3786"
             ],
             [
              0.5555555555555556,
              "#d8576b"
             ],
             [
              0.6666666666666666,
              "#ed7953"
             ],
             [
              0.7777777777777778,
              "#fb9f3a"
             ],
             [
              0.8888888888888888,
              "#fdca26"
             ],
             [
              1,
              "#f0f921"
             ]
            ],
            "type": "heatmap"
           }
          ],
          "heatmapgl": [
           {
            "colorbar": {
             "outlinewidth": 0,
             "ticks": ""
            },
            "colorscale": [
             [
              0,
              "#0d0887"
             ],
             [
              0.1111111111111111,
              "#46039f"
             ],
             [
              0.2222222222222222,
              "#7201a8"
             ],
             [
              0.3333333333333333,
              "#9c179e"
             ],
             [
              0.4444444444444444,
              "#bd3786"
             ],
             [
              0.5555555555555556,
              "#d8576b"
             ],
             [
              0.6666666666666666,
              "#ed7953"
             ],
             [
              0.7777777777777778,
              "#fb9f3a"
             ],
             [
              0.8888888888888888,
              "#fdca26"
             ],
             [
              1,
              "#f0f921"
             ]
            ],
            "type": "heatmapgl"
           }
          ],
          "histogram": [
           {
            "marker": {
             "pattern": {
              "fillmode": "overlay",
              "size": 10,
              "solidity": 0.2
             }
            },
            "type": "histogram"
           }
          ],
          "histogram2d": [
           {
            "colorbar": {
             "outlinewidth": 0,
             "ticks": ""
            },
            "colorscale": [
             [
              0,
              "#0d0887"
             ],
             [
              0.1111111111111111,
              "#46039f"
             ],
             [
              0.2222222222222222,
              "#7201a8"
             ],
             [
              0.3333333333333333,
              "#9c179e"
             ],
             [
              0.4444444444444444,
              "#bd3786"
             ],
             [
              0.5555555555555556,
              "#d8576b"
             ],
             [
              0.6666666666666666,
              "#ed7953"
             ],
             [
              0.7777777777777778,
              "#fb9f3a"
             ],
             [
              0.8888888888888888,
              "#fdca26"
             ],
             [
              1,
              "#f0f921"
             ]
            ],
            "type": "histogram2d"
           }
          ],
          "histogram2dcontour": [
           {
            "colorbar": {
             "outlinewidth": 0,
             "ticks": ""
            },
            "colorscale": [
             [
              0,
              "#0d0887"
             ],
             [
              0.1111111111111111,
              "#46039f"
             ],
             [
              0.2222222222222222,
              "#7201a8"
             ],
             [
              0.3333333333333333,
              "#9c179e"
             ],
             [
              0.4444444444444444,
              "#bd3786"
             ],
             [
              0.5555555555555556,
              "#d8576b"
             ],
             [
              0.6666666666666666,
              "#ed7953"
             ],
             [
              0.7777777777777778,
              "#fb9f3a"
             ],
             [
              0.8888888888888888,
              "#fdca26"
             ],
             [
              1,
              "#f0f921"
             ]
            ],
            "type": "histogram2dcontour"
           }
          ],
          "mesh3d": [
           {
            "colorbar": {
             "outlinewidth": 0,
             "ticks": ""
            },
            "type": "mesh3d"
           }
          ],
          "parcoords": [
           {
            "line": {
             "colorbar": {
              "outlinewidth": 0,
              "ticks": ""
             }
            },
            "type": "parcoords"
           }
          ],
          "pie": [
           {
            "automargin": true,
            "type": "pie"
           }
          ],
          "scatter": [
           {
            "fillpattern": {
             "fillmode": "overlay",
             "size": 10,
             "solidity": 0.2
            },
            "type": "scatter"
           }
          ],
          "scatter3d": [
           {
            "line": {
             "colorbar": {
              "outlinewidth": 0,
              "ticks": ""
             }
            },
            "marker": {
             "colorbar": {
              "outlinewidth": 0,
              "ticks": ""
             }
            },
            "type": "scatter3d"
           }
          ],
          "scattercarpet": [
           {
            "marker": {
             "colorbar": {
              "outlinewidth": 0,
              "ticks": ""
             }
            },
            "type": "scattercarpet"
           }
          ],
          "scattergeo": [
           {
            "marker": {
             "colorbar": {
              "outlinewidth": 0,
              "ticks": ""
             }
            },
            "type": "scattergeo"
           }
          ],
          "scattergl": [
           {
            "marker": {
             "colorbar": {
              "outlinewidth": 0,
              "ticks": ""
             }
            },
            "type": "scattergl"
           }
          ],
          "scattermapbox": [
           {
            "marker": {
             "colorbar": {
              "outlinewidth": 0,
              "ticks": ""
             }
            },
            "type": "scattermapbox"
           }
          ],
          "scatterpolar": [
           {
            "marker": {
             "colorbar": {
              "outlinewidth": 0,
              "ticks": ""
             }
            },
            "type": "scatterpolar"
           }
          ],
          "scatterpolargl": [
           {
            "marker": {
             "colorbar": {
              "outlinewidth": 0,
              "ticks": ""
             }
            },
            "type": "scatterpolargl"
           }
          ],
          "scatterternary": [
           {
            "marker": {
             "colorbar": {
              "outlinewidth": 0,
              "ticks": ""
             }
            },
            "type": "scatterternary"
           }
          ],
          "surface": [
           {
            "colorbar": {
             "outlinewidth": 0,
             "ticks": ""
            },
            "colorscale": [
             [
              0,
              "#0d0887"
             ],
             [
              0.1111111111111111,
              "#46039f"
             ],
             [
              0.2222222222222222,
              "#7201a8"
             ],
             [
              0.3333333333333333,
              "#9c179e"
             ],
             [
              0.4444444444444444,
              "#bd3786"
             ],
             [
              0.5555555555555556,
              "#d8576b"
             ],
             [
              0.6666666666666666,
              "#ed7953"
             ],
             [
              0.7777777777777778,
              "#fb9f3a"
             ],
             [
              0.8888888888888888,
              "#fdca26"
             ],
             [
              1,
              "#f0f921"
             ]
            ],
            "type": "surface"
           }
          ],
          "table": [
           {
            "cells": {
             "fill": {
              "color": "#EBF0F8"
             },
             "line": {
              "color": "white"
             }
            },
            "header": {
             "fill": {
              "color": "#C8D4E3"
             },
             "line": {
              "color": "white"
             }
            },
            "type": "table"
           }
          ]
         },
         "layout": {
          "annotationdefaults": {
           "arrowcolor": "#2a3f5f",
           "arrowhead": 0,
           "arrowwidth": 1
          },
          "autotypenumbers": "strict",
          "coloraxis": {
           "colorbar": {
            "outlinewidth": 0,
            "ticks": ""
           }
          },
          "colorscale": {
           "diverging": [
            [
             0,
             "#8e0152"
            ],
            [
             0.1,
             "#c51b7d"
            ],
            [
             0.2,
             "#de77ae"
            ],
            [
             0.3,
             "#f1b6da"
            ],
            [
             0.4,
             "#fde0ef"
            ],
            [
             0.5,
             "#f7f7f7"
            ],
            [
             0.6,
             "#e6f5d0"
            ],
            [
             0.7,
             "#b8e186"
            ],
            [
             0.8,
             "#7fbc41"
            ],
            [
             0.9,
             "#4d9221"
            ],
            [
             1,
             "#276419"
            ]
           ],
           "sequential": [
            [
             0,
             "#0d0887"
            ],
            [
             0.1111111111111111,
             "#46039f"
            ],
            [
             0.2222222222222222,
             "#7201a8"
            ],
            [
             0.3333333333333333,
             "#9c179e"
            ],
            [
             0.4444444444444444,
             "#bd3786"
            ],
            [
             0.5555555555555556,
             "#d8576b"
            ],
            [
             0.6666666666666666,
             "#ed7953"
            ],
            [
             0.7777777777777778,
             "#fb9f3a"
            ],
            [
             0.8888888888888888,
             "#fdca26"
            ],
            [
             1,
             "#f0f921"
            ]
           ],
           "sequentialminus": [
            [
             0,
             "#0d0887"
            ],
            [
             0.1111111111111111,
             "#46039f"
            ],
            [
             0.2222222222222222,
             "#7201a8"
            ],
            [
             0.3333333333333333,
             "#9c179e"
            ],
            [
             0.4444444444444444,
             "#bd3786"
            ],
            [
             0.5555555555555556,
             "#d8576b"
            ],
            [
             0.6666666666666666,
             "#ed7953"
            ],
            [
             0.7777777777777778,
             "#fb9f3a"
            ],
            [
             0.8888888888888888,
             "#fdca26"
            ],
            [
             1,
             "#f0f921"
            ]
           ]
          },
          "colorway": [
           "#636efa",
           "#EF553B",
           "#00cc96",
           "#ab63fa",
           "#FFA15A",
           "#19d3f3",
           "#FF6692",
           "#B6E880",
           "#FF97FF",
           "#FECB52"
          ],
          "font": {
           "color": "#2a3f5f"
          },
          "geo": {
           "bgcolor": "white",
           "lakecolor": "white",
           "landcolor": "#E5ECF6",
           "showlakes": true,
           "showland": true,
           "subunitcolor": "white"
          },
          "hoverlabel": {
           "align": "left"
          },
          "hovermode": "closest",
          "mapbox": {
           "style": "light"
          },
          "paper_bgcolor": "white",
          "plot_bgcolor": "#E5ECF6",
          "polar": {
           "angularaxis": {
            "gridcolor": "white",
            "linecolor": "white",
            "ticks": ""
           },
           "bgcolor": "#E5ECF6",
           "radialaxis": {
            "gridcolor": "white",
            "linecolor": "white",
            "ticks": ""
           }
          },
          "scene": {
           "xaxis": {
            "backgroundcolor": "#E5ECF6",
            "gridcolor": "white",
            "gridwidth": 2,
            "linecolor": "white",
            "showbackground": true,
            "ticks": "",
            "zerolinecolor": "white"
           },
           "yaxis": {
            "backgroundcolor": "#E5ECF6",
            "gridcolor": "white",
            "gridwidth": 2,
            "linecolor": "white",
            "showbackground": true,
            "ticks": "",
            "zerolinecolor": "white"
           },
           "zaxis": {
            "backgroundcolor": "#E5ECF6",
            "gridcolor": "white",
            "gridwidth": 2,
            "linecolor": "white",
            "showbackground": true,
            "ticks": "",
            "zerolinecolor": "white"
           }
          },
          "shapedefaults": {
           "line": {
            "color": "#2a3f5f"
           }
          },
          "ternary": {
           "aaxis": {
            "gridcolor": "white",
            "linecolor": "white",
            "ticks": ""
           },
           "baxis": {
            "gridcolor": "white",
            "linecolor": "white",
            "ticks": ""
           },
           "bgcolor": "#E5ECF6",
           "caxis": {
            "gridcolor": "white",
            "linecolor": "white",
            "ticks": ""
           }
          },
          "title": {
           "x": 0.05
          },
          "xaxis": {
           "automargin": true,
           "gridcolor": "white",
           "linecolor": "white",
           "ticks": "",
           "title": {
            "standoff": 15
           },
           "zerolinecolor": "white",
           "zerolinewidth": 2
          },
          "yaxis": {
           "automargin": true,
           "gridcolor": "white",
           "linecolor": "white",
           "ticks": "",
           "title": {
            "standoff": 15
           },
           "zerolinecolor": "white",
           "zerolinewidth": 2
          }
         }
        }
       }
      }
     },
     "metadata": {},
     "output_type": "display_data"
    }
   ],
   "source": [
    "fig = px.sunburst(df_dataAnalyst_resign, path=['JenjangKarir', 'PerformancePegawai', 'AlasanResign'], values='Total Resign')\n",
    "fig.update_layout(\n",
    "    margin=dict(l=0, r=0, t=10, b=10),\n",
    ")\n",
    "fig.show()"
   ]
  },
  {
   "cell_type": "markdown",
   "metadata": {},
   "source": [
    "According to the Sunburst Charts, resignations from the data analyst role are all of them is Freshgraduate_program, and all of these resignations are attributed to issues related to toxic culture or internal conflict. This underscores the need for the company to address and rectify concerns related to workplace culture to create a more comfortable and conducive working environment."
   ]
  }
 ],
 "metadata": {
  "kernelspec": {
   "display_name": "Python 3",
   "language": "python",
   "name": "python3"
  },
  "language_info": {
   "codemirror_mode": {
    "name": "ipython",
    "version": 3
   },
   "file_extension": ".py",
   "mimetype": "text/x-python",
   "name": "python",
   "nbconvert_exporter": "python",
   "pygments_lexer": "ipython3",
   "version": "3.10.11"
  }
 },
 "nbformat": 4,
 "nbformat_minor": 2
}
